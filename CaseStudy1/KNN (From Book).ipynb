{
 "cells": [
  {
   "cell_type": "markdown",
   "metadata": {},
   "source": [
    "# KNN\n",
    "\n",
    "First run the file [/notebooks/CaseStudy1/Clean%20Data%20(From%20Book).ipynb](/notebooks/CaseStudy1/Clean%20Data%20(From%20Book).ipynb)\n"
   ]
  },
  {
   "cell_type": "code",
   "execution_count": 1,
   "metadata": {},
   "outputs": [],
   "source": [
    "OFFLINE_SOURCE_CSV = '../data/offline.final.trace.csv'\n",
    "OFFLINE_SOURCE = '../data/offline.final.trace.txt'\n",
    "ONLINE_SOURCE = '../data/online.final.trace.txt'\n",
    "\n",
    "NUM_ROWS_FOR_SAMPLE = 1000 # out of 914,951 rows"
   ]
  },
  {
   "cell_type": "code",
   "execution_count": 2,
   "metadata": {},
   "outputs": [
    {
     "name": "stdout",
     "output_type": "stream",
     "text": [
      "[1] \"00:0f:a3:39:e1:c0\" \"00:0f:a3:39:dd:cd\" \"00:14:bf:b1:97:8a\"\n",
      "[4] \"00:14:bf:3b:c7:c6\" \"00:14:bf:b1:97:90\" \"00:14:bf:b1:97:8d\"\n",
      "[7] \"00:14:bf:b1:97:81\"\n"
     ]
    }
   ],
   "source": [
    "roundOrientation = function(angles) {\n",
    "  refs = seq(0, by = 45, length  = 9)\n",
    "  q = sapply(angles, function(o) which.min(abs(o - refs)))\n",
    "  c(refs[1:8], 0)[q]\n",
    "}\n",
    "             \n",
    "processLine =\n",
    "function(x)\n",
    "{\n",
    "  tokens = strsplit(x, \"[;=,]\")[[1]]\n",
    "  tmp = matrix(tokens[ - (1:10) ], ncol = 4, byrow = TRUE)\n",
    "  cbind(matrix(tokens[c(2, 4, 6:8, 10)], nrow = nrow(tmp),\n",
    "ncol = 6, byrow = TRUE), tmp)\n",
    "}\n",
    "\n",
    "readData = \n",
    "  function(filename = 'offline.final.trace.txt', \n",
    "           subMacs = c(\"00:0f:a3:39:e1:c0\", \"00:0f:a3:39:dd:cd\", \"00:14:bf:b1:97:8a\",\n",
    "                       \"00:14:bf:3b:c7:c6\", \"00:14:bf:b1:97:90\", \"00:14:bf:b1:97:8d\",\n",
    "                       \"00:14:bf:b1:97:81\"))\n",
    "  {\n",
    "      print(subMacs)\n",
    "    txt = readLines(filename)\n",
    "    lines = txt[ substr(txt, 1, 1) != \"#\" ]\n",
    "    tmp = lapply(lines, processLine)\n",
    "    offline = as.data.frame(do.call(\"rbind\", tmp), \n",
    "                            stringsAsFactors= FALSE) \n",
    "    \n",
    "    names(offline) = c(\"time\", \"scanMac\", \n",
    "                       \"posX\", \"posY\", \"posZ\", \"orientation\", \n",
    "                       \"mac\", \"signal\", \"channel\", \"type\")\n",
    "    \n",
    "     # keep only signals from access points\n",
    "    offline = offline[ offline$type == \"3\", ]\n",
    "    \n",
    "    # drop scanMac, posZ, channel, and type - no info in them\n",
    "    dropVars = c(\"scanMac\", \"posZ\", \"channel\", \"type\")\n",
    "    offline = offline[ , !( names(offline) %in% dropVars ) ]\n",
    "    \n",
    "    # drop more unwanted access points\n",
    "    offline = offline[ offline$mac %in% subMacs, ]\n",
    "    \n",
    "    # convert numeric values\n",
    "    numVars = c(\"time\", \"posX\", \"posY\", \"orientation\", \"signal\")\n",
    "    offline[ numVars ] = lapply(offline[ numVars ], as.numeric)\n",
    "\n",
    "    # convert time to POSIX\n",
    "    offline$rawTime = offline$time\n",
    "    offline$time = offline$time/1000\n",
    "    class(offline$time) = c(\"POSIXt\", \"POSIXct\")\n",
    "    \n",
    "    # round orientations to nearest 45\n",
    "    offline$angle = roundOrientation(offline$orientation)\n",
    "      \n",
    "    return(offline)\n",
    "  }\n",
    "online = readData(ONLINE_SOURCE)"
   ]
  },
  {
   "cell_type": "code",
   "execution_count": 3,
   "metadata": {},
   "outputs": [],
   "source": [
    "offline = read.csv(OFFLINE_SOURCE_CSV, row.names=1)"
   ]
  },
  {
   "cell_type": "code",
   "execution_count": 4,
   "metadata": {},
   "outputs": [],
   "source": [
    "trainSample = offline[sample(nrow(offline), NUM_ROWS_FOR_SAMPLE), ]"
   ]
  },
  {
   "cell_type": "code",
   "execution_count": 5,
   "metadata": {},
   "outputs": [],
   "source": [
    "#Create a special factor that contains all of the unique combinations \n",
    "#of the observed (x, y) pairs for the 166 locations. \n",
    "\n",
    "get.summary = function(df) {\n",
    "    df$posXY = paste(df$posX, df$posY, sep = \"-\")\n",
    "\n",
    "    #create a list of data frames for every combination of (x, y), angle, and access point\n",
    "    byLocAngleAP = with(df,\n",
    "    by(df, list(posXY, angle, mac),\n",
    "    function(x) x))\n",
    "\n",
    "    #create summary statistics on each of the data frames\n",
    "\n",
    "    signalSummary =\n",
    "        lapply(byLocAngleAP,\n",
    "        function(oneLoc) {\n",
    "            ans = oneLoc[1, ]\n",
    "            ans$medSignal = median(oneLoc$signal)\n",
    "            ans$avgSignal = mean(oneLoc$signal)\n",
    "            ans$num = length(oneLoc$signal)\n",
    "            ans$sdSignal = sd(oneLoc$signal)\n",
    "            ans$iqrSignal = IQR(oneLoc$signal)\n",
    "            return(ans)\n",
    "        })\n",
    "    return(do.call(\"rbind\", signalSummary))\n",
    "}\n",
    "\n",
    "   \n"
   ]
  },
  {
   "cell_type": "code",
   "execution_count": 6,
   "metadata": {},
   "outputs": [],
   "source": [
    "offlineSummary = get.summary(offline)"
   ]
  },
  {
   "cell_type": "code",
   "execution_count": 7,
   "metadata": {},
   "outputs": [
    {
     "name": "stderr",
     "output_type": "stream",
     "text": [
      "Warning message in matrix(avgSS, nrow = 1, ncol = 6):\n",
      "“data length [7] is not a sub-multiple or multiple of the number of columns [6]”Warning message in matrix(avgSS, nrow = 1, ncol = 6):\n",
      "“data length [7] is not a sub-multiple or multiple of the number of columns [6]”Warning message in matrix(avgSS, nrow = 1, ncol = 6):\n",
      "“data length [7] is not a sub-multiple or multiple of the number of columns [6]”Warning message in matrix(avgSS, nrow = 1, ncol = 6):\n",
      "“data length [7] is not a sub-multiple or multiple of the number of columns [6]”Warning message in matrix(avgSS, nrow = 1, ncol = 6):\n",
      "“data length [7] is not a sub-multiple or multiple of the number of columns [6]”Warning message in matrix(avgSS, nrow = 1, ncol = 6):\n",
      "“data length [7] is not a sub-multiple or multiple of the number of columns [6]”Warning message in matrix(avgSS, nrow = 1, ncol = 6):\n",
      "“data length [7] is not a sub-multiple or multiple of the number of columns [6]”Warning message in matrix(avgSS, nrow = 1, ncol = 6):\n",
      "“data length [7] is not a sub-multiple or multiple of the number of columns [6]”Warning message in matrix(avgSS, nrow = 1, ncol = 6):\n",
      "“data length [7] is not a sub-multiple or multiple of the number of columns [6]”Warning message in matrix(avgSS, nrow = 1, ncol = 6):\n",
      "“data length [7] is not a sub-multiple or multiple of the number of columns [6]”Warning message in matrix(avgSS, nrow = 1, ncol = 6):\n",
      "“data length [7] is not a sub-multiple or multiple of the number of columns [6]”Warning message in matrix(avgSS, nrow = 1, ncol = 6):\n",
      "“data length [7] is not a sub-multiple or multiple of the number of columns [6]”Warning message in matrix(avgSS, nrow = 1, ncol = 6):\n",
      "“data length [7] is not a sub-multiple or multiple of the number of columns [6]”Warning message in matrix(avgSS, nrow = 1, ncol = 6):\n",
      "“data length [7] is not a sub-multiple or multiple of the number of columns [6]”Warning message in matrix(avgSS, nrow = 1, ncol = 6):\n",
      "“data length [7] is not a sub-multiple or multiple of the number of columns [6]”Warning message in matrix(avgSS, nrow = 1, ncol = 6):\n",
      "“data length [7] is not a sub-multiple or multiple of the number of columns [6]”Warning message in matrix(avgSS, nrow = 1, ncol = 6):\n",
      "“data length [7] is not a sub-multiple or multiple of the number of columns [6]”Warning message in matrix(avgSS, nrow = 1, ncol = 6):\n",
      "“data length [7] is not a sub-multiple or multiple of the number of columns [6]”Warning message in matrix(avgSS, nrow = 1, ncol = 6):\n",
      "“data length [7] is not a sub-multiple or multiple of the number of columns [6]”Warning message in matrix(avgSS, nrow = 1, ncol = 6):\n",
      "“data length [7] is not a sub-multiple or multiple of the number of columns [6]”Warning message in matrix(avgSS, nrow = 1, ncol = 6):\n",
      "“data length [7] is not a sub-multiple or multiple of the number of columns [6]”Warning message in matrix(avgSS, nrow = 1, ncol = 6):\n",
      "“data length [7] is not a sub-multiple or multiple of the number of columns [6]”Warning message in matrix(avgSS, nrow = 1, ncol = 6):\n",
      "“data length [7] is not a sub-multiple or multiple of the number of columns [6]”Warning message in matrix(avgSS, nrow = 1, ncol = 6):\n",
      "“data length [7] is not a sub-multiple or multiple of the number of columns [6]”Warning message in matrix(avgSS, nrow = 1, ncol = 6):\n",
      "“data length [7] is not a sub-multiple or multiple of the number of columns [6]”Warning message in matrix(avgSS, nrow = 1, ncol = 6):\n",
      "“data length [7] is not a sub-multiple or multiple of the number of columns [6]”Warning message in matrix(avgSS, nrow = 1, ncol = 6):\n",
      "“data length [7] is not a sub-multiple or multiple of the number of columns [6]”Warning message in matrix(avgSS, nrow = 1, ncol = 6):\n",
      "“data length [7] is not a sub-multiple or multiple of the number of columns [6]”Warning message in matrix(avgSS, nrow = 1, ncol = 6):\n",
      "“data length [7] is not a sub-multiple or multiple of the number of columns [6]”Warning message in matrix(avgSS, nrow = 1, ncol = 6):\n",
      "“data length [7] is not a sub-multiple or multiple of the number of columns [6]”Warning message in matrix(avgSS, nrow = 1, ncol = 6):\n",
      "“data length [7] is not a sub-multiple or multiple of the number of columns [6]”Warning message in matrix(avgSS, nrow = 1, ncol = 6):\n",
      "“data length [7] is not a sub-multiple or multiple of the number of columns [6]”Warning message in matrix(avgSS, nrow = 1, ncol = 6):\n",
      "“data length [7] is not a sub-multiple or multiple of the number of columns [6]”Warning message in matrix(avgSS, nrow = 1, ncol = 6):\n",
      "“data length [7] is not a sub-multiple or multiple of the number of columns [6]”Warning message in matrix(avgSS, nrow = 1, ncol = 6):\n",
      "“data length [7] is not a sub-multiple or multiple of the number of columns [6]”Warning message in matrix(avgSS, nrow = 1, ncol = 6):\n",
      "“data length [7] is not a sub-multiple or multiple of the number of columns [6]”Warning message in matrix(avgSS, nrow = 1, ncol = 6):\n",
      "“data length [7] is not a sub-multiple or multiple of the number of columns [6]”Warning message in matrix(avgSS, nrow = 1, ncol = 6):\n",
      "“data length [7] is not a sub-multiple or multiple of the number of columns [6]”Warning message in matrix(avgSS, nrow = 1, ncol = 6):\n",
      "“data length [7] is not a sub-multiple or multiple of the number of columns [6]”Warning message in matrix(avgSS, nrow = 1, ncol = 6):\n",
      "“data length [7] is not a sub-multiple or multiple of the number of columns [6]”Warning message in matrix(avgSS, nrow = 1, ncol = 6):\n",
      "“data length [7] is not a sub-multiple or multiple of the number of columns [6]”Warning message in matrix(avgSS, nrow = 1, ncol = 6):\n",
      "“data length [7] is not a sub-multiple or multiple of the number of columns [6]”Warning message in matrix(avgSS, nrow = 1, ncol = 6):\n",
      "“data length [7] is not a sub-multiple or multiple of the number of columns [6]”Warning message in matrix(avgSS, nrow = 1, ncol = 6):\n",
      "“data length [7] is not a sub-multiple or multiple of the number of columns [6]”Warning message in matrix(avgSS, nrow = 1, ncol = 6):\n",
      "“data length [7] is not a sub-multiple or multiple of the number of columns [6]”Warning message in matrix(avgSS, nrow = 1, ncol = 6):\n",
      "“data length [7] is not a sub-multiple or multiple of the number of columns [6]”Warning message in matrix(avgSS, nrow = 1, ncol = 6):\n",
      "“data length [7] is not a sub-multiple or multiple of the number of columns [6]”Warning message in matrix(avgSS, nrow = 1, ncol = 6):\n",
      "“data length [7] is not a sub-multiple or multiple of the number of columns [6]”Warning message in matrix(avgSS, nrow = 1, ncol = 6):\n",
      "“data length [7] is not a sub-multiple or multiple of the number of columns [6]”Warning message in matrix(avgSS, nrow = 1, ncol = 6):\n",
      "“data length [7] is not a sub-multiple or multiple of the number of columns [6]”Warning message in matrix(avgSS, nrow = 1, ncol = 6):\n",
      "“data length [7] is not a sub-multiple or multiple of the number of columns [6]”Warning message in matrix(avgSS, nrow = 1, ncol = 6):\n",
      "“data length [7] is not a sub-multiple or multiple of the number of columns [6]”Warning message in matrix(avgSS, nrow = 1, ncol = 6):\n",
      "“data length [7] is not a sub-multiple or multiple of the number of columns [6]”Warning message in matrix(avgSS, nrow = 1, ncol = 6):\n",
      "“data length [7] is not a sub-multiple or multiple of the number of columns [6]”Warning message in matrix(avgSS, nrow = 1, ncol = 6):\n",
      "“data length [7] is not a sub-multiple or multiple of the number of columns [6]”Warning message in matrix(avgSS, nrow = 1, ncol = 6):\n",
      "“data length [7] is not a sub-multiple or multiple of the number of columns [6]”Warning message in matrix(avgSS, nrow = 1, ncol = 6):\n",
      "“data length [7] is not a sub-multiple or multiple of the number of columns [6]”Warning message in matrix(avgSS, nrow = 1, ncol = 6):\n",
      "“data length [7] is not a sub-multiple or multiple of the number of columns [6]”Warning message in matrix(avgSS, nrow = 1, ncol = 6):\n",
      "“data length [7] is not a sub-multiple or multiple of the number of columns [6]”Warning message in matrix(avgSS, nrow = 1, ncol = 6):\n",
      "“data length [7] is not a sub-multiple or multiple of the number of columns [6]”"
     ]
    }
   ],
   "source": [
    "online$posXY = paste(online$posX, online$posY, sep = \"-\")\n",
    "tabonlineXYA = table(online$posXY, online$angle)\n",
    "\n",
    "keepVars = c(\"posXY\", \"posX\",\"posY\", \"orientation\", \"angle\")\n",
    "byLoc = with(online,\n",
    "             by(online, list(posXY),\n",
    "                function(x) {\n",
    "                  ans = x[1, keepVars]\n",
    "                  avgSS = tapply(x$signal, x$mac, mean)\n",
    "                  y = matrix(avgSS, nrow = 1, ncol = 6)\n",
    "                  cbind(ans, y)\n",
    "                }))\n",
    "onlineSummary = do.call(\"rbind\", byLoc)"
   ]
  },
  {
   "cell_type": "code",
   "execution_count": 8,
   "metadata": {},
   "outputs": [],
   "source": [
    "# provide a scalar x and y along with a dataframe that has the columns posX and posY\n",
    "# will return the dataframe sorted by whose posX/posY values are closest to the x/y provided\n",
    "findNN.with.x.y = function(x, y, trainSubset) {\n",
    "  diffs = apply(trainSubset[c('posX', 'posY')], 1, function(row) row - c(x, y))\n",
    "  dists = apply(diffs, 2, function(x) sqrt(sum(x^2)) )\n",
    "  closest = order(dists)\n",
    "  return(trainSubset[closest,])\n",
    "}"
   ]
  },
  {
   "cell_type": "code",
   "execution_count": 9,
   "metadata": {},
   "outputs": [
    {
     "data": {
      "text/html": [
       "<table>\n",
       "<thead><tr><th></th><th scope=col>time</th><th scope=col>posX</th><th scope=col>posY</th><th scope=col>orientation</th><th scope=col>mac</th><th scope=col>signal</th><th scope=col>rawTime</th><th scope=col>angle</th></tr></thead>\n",
       "<tbody>\n",
       "\t<tr><th scope=row>629745</th><td>2006-02-11 14:58:39</td><td>4                  </td><td>8                  </td><td>271.6              </td><td>00:14:bf:b1:97:8a  </td><td>-55                </td><td>1.139692e+12       </td><td>270                </td></tr>\n",
       "\t<tr><th scope=row>630495</th><td>2006-02-11 14:59:00</td><td>4                  </td><td>8                  </td><td>271.6              </td><td>00:0f:a3:39:e1:c0  </td><td>-45                </td><td>1.139692e+12       </td><td>270                </td></tr>\n",
       "\t<tr><th scope=row>625716</th><td>2006-02-11 14:55:32</td><td>4                  </td><td>8                  </td><td> 45.2              </td><td>00:14:bf:b1:97:90  </td><td>-67                </td><td>1.139691e+12       </td><td> 45                </td></tr>\n",
       "\t<tr><th scope=row>627147</th><td>2006-02-11 14:56:43</td><td>4                  </td><td>8                  </td><td>135.1              </td><td>00:14:bf:3b:c7:c6  </td><td>-60                </td><td>1.139691e+12       </td><td>135                </td></tr>\n",
       "\t<tr><th scope=row>624735</th><td>2006-02-11 14:54:39</td><td>4                  </td><td>8                  </td><td>359.6              </td><td>00:14:bf:b1:97:90  </td><td>-48                </td><td>1.139691e+12       </td><td>  0                </td></tr>\n",
       "\t<tr><th scope=row>586837</th><td>2006-02-11 14:01:51</td><td>4                  </td><td>7                  </td><td>315.9              </td><td>00:14:bf:b1:97:90  </td><td>-50                </td><td>1.139688e+12       </td><td>315                </td></tr>\n",
       "</tbody>\n",
       "</table>\n"
      ],
      "text/latex": [
       "\\begin{tabular}{r|llllllll}\n",
       "  & time & posX & posY & orientation & mac & signal & rawTime & angle\\\\\n",
       "\\hline\n",
       "\t629745 & 2006-02-11 14:58:39 & 4                   & 8                   & 271.6               & 00:14:bf:b1:97:8a   & -55                 & 1.139692e+12        & 270                \\\\\n",
       "\t630495 & 2006-02-11 14:59:00 & 4                   & 8                   & 271.6               & 00:0f:a3:39:e1:c0   & -45                 & 1.139692e+12        & 270                \\\\\n",
       "\t625716 & 2006-02-11 14:55:32 & 4                   & 8                   &  45.2               & 00:14:bf:b1:97:90   & -67                 & 1.139691e+12        &  45                \\\\\n",
       "\t627147 & 2006-02-11 14:56:43 & 4                   & 8                   & 135.1               & 00:14:bf:3b:c7:c6   & -60                 & 1.139691e+12        & 135                \\\\\n",
       "\t624735 & 2006-02-11 14:54:39 & 4                   & 8                   & 359.6               & 00:14:bf:b1:97:90   & -48                 & 1.139691e+12        &   0                \\\\\n",
       "\t586837 & 2006-02-11 14:01:51 & 4                   & 7                   & 315.9               & 00:14:bf:b1:97:90   & -50                 & 1.139688e+12        & 315                \\\\\n",
       "\\end{tabular}\n"
      ],
      "text/markdown": [
       "\n",
       "| <!--/--> | time | posX | posY | orientation | mac | signal | rawTime | angle | \n",
       "|---|---|---|---|---|---|\n",
       "| 629745 | 2006-02-11 14:58:39 | 4                   | 8                   | 271.6               | 00:14:bf:b1:97:8a   | -55                 | 1.139692e+12        | 270                 | \n",
       "| 630495 | 2006-02-11 14:59:00 | 4                   | 8                   | 271.6               | 00:0f:a3:39:e1:c0   | -45                 | 1.139692e+12        | 270                 | \n",
       "| 625716 | 2006-02-11 14:55:32 | 4                   | 8                   |  45.2               | 00:14:bf:b1:97:90   | -67                 | 1.139691e+12        |  45                 | \n",
       "| 627147 | 2006-02-11 14:56:43 | 4                   | 8                   | 135.1               | 00:14:bf:3b:c7:c6   | -60                 | 1.139691e+12        | 135                 | \n",
       "| 624735 | 2006-02-11 14:54:39 | 4                   | 8                   | 359.6               | 00:14:bf:b1:97:90   | -48                 | 1.139691e+12        |   0                 | \n",
       "| 586837 | 2006-02-11 14:01:51 | 4                   | 7                   | 315.9               | 00:14:bf:b1:97:90   | -50                 | 1.139688e+12        | 315                 | \n",
       "\n",
       "\n"
      ],
      "text/plain": [
       "       time                posX posY orientation mac               signal\n",
       "629745 2006-02-11 14:58:39 4    8    271.6       00:14:bf:b1:97:8a -55   \n",
       "630495 2006-02-11 14:59:00 4    8    271.6       00:0f:a3:39:e1:c0 -45   \n",
       "625716 2006-02-11 14:55:32 4    8     45.2       00:14:bf:b1:97:90 -67   \n",
       "627147 2006-02-11 14:56:43 4    8    135.1       00:14:bf:3b:c7:c6 -60   \n",
       "624735 2006-02-11 14:54:39 4    8    359.6       00:14:bf:b1:97:90 -48   \n",
       "586837 2006-02-11 14:01:51 4    7    315.9       00:14:bf:b1:97:90 -50   \n",
       "       rawTime      angle\n",
       "629745 1.139692e+12 270  \n",
       "630495 1.139692e+12 270  \n",
       "625716 1.139691e+12  45  \n",
       "627147 1.139691e+12 135  \n",
       "624735 1.139691e+12   0  \n",
       "586837 1.139688e+12 315  "
      ]
     },
     "metadata": {},
     "output_type": "display_data"
    }
   ],
   "source": [
    "# Idealy, this would have a bunch of posX=4, posY=8 rows\n",
    "head(findNN.with.x.y(4, 8, trainSample))"
   ]
  },
  {
   "cell_type": "code",
   "execution_count": 10,
   "metadata": {
    "scrolled": false
   },
   "outputs": [
    {
     "name": "stdout",
     "output_type": "stream",
     "text": [
      "[1] 166   9\n"
     ]
    },
    {
     "data": {
      "text/html": [
       "<table>\n",
       "<thead><tr><th></th><th scope=col>posXY</th><th scope=col>posX</th><th scope=col>posY</th><th scope=col>1</th><th scope=col>2</th><th scope=col>3</th><th scope=col>4</th><th scope=col>5</th><th scope=col>6</th></tr></thead>\n",
       "<tbody>\n",
       "\t<tr><th scope=row>8-7</th><td>8-7      </td><td>8        </td><td>7        </td><td>-56.68887</td><td>-45.24518</td><td>-55.07055</td><td>-57.59910</td><td>-59.24071</td><td>-51.31293</td></tr>\n",
       "\t<tr><th scope=row>8-8</th><td>8-8      </td><td>8        </td><td>8        </td><td>-57.07843</td><td>-47.67784</td><td>-57.24047</td><td>-59.45330</td><td>-59.65443</td><td>-52.12153</td></tr>\n",
       "\t<tr><th scope=row>9-3</th><td>9-3      </td><td>9        </td><td>3        </td><td>-62.04891</td><td>-50.80303</td><td>-49.24919</td><td>-51.72192</td><td>-56.44777</td><td>-55.64502</td></tr>\n",
       "\t<tr><th scope=row>9-4</th><td>9-4      </td><td>9        </td><td>4        </td><td>-63.94288</td><td>-49.30732</td><td>-51.67410</td><td>-52.77017</td><td>-56.62694</td><td>-58.61451</td></tr>\n",
       "\t<tr><th scope=row>9-7</th><td>9-7      </td><td>9        </td><td>7        </td><td>-58.95216</td><td>-49.00909</td><td>-50.58772</td><td>-61.89560</td><td>-58.74623</td><td>-52.84032</td></tr>\n",
       "\t<tr><th scope=row>9-8</th><td>9-8      </td><td>9        </td><td>8        </td><td>-54.56367</td><td>-48.33939</td><td>-51.36724</td><td>-59.43084</td><td>-60.26411</td><td>-51.92690</td></tr>\n",
       "</tbody>\n",
       "</table>\n"
      ],
      "text/latex": [
       "\\begin{tabular}{r|lllllllll}\n",
       "  & posXY & posX & posY & 1 & 2 & 3 & 4 & 5 & 6\\\\\n",
       "\\hline\n",
       "\t8-7 & 8-7       & 8         & 7         & -56.68887 & -45.24518 & -55.07055 & -57.59910 & -59.24071 & -51.31293\\\\\n",
       "\t8-8 & 8-8       & 8         & 8         & -57.07843 & -47.67784 & -57.24047 & -59.45330 & -59.65443 & -52.12153\\\\\n",
       "\t9-3 & 9-3       & 9         & 3         & -62.04891 & -50.80303 & -49.24919 & -51.72192 & -56.44777 & -55.64502\\\\\n",
       "\t9-4 & 9-4       & 9         & 4         & -63.94288 & -49.30732 & -51.67410 & -52.77017 & -56.62694 & -58.61451\\\\\n",
       "\t9-7 & 9-7       & 9         & 7         & -58.95216 & -49.00909 & -50.58772 & -61.89560 & -58.74623 & -52.84032\\\\\n",
       "\t9-8 & 9-8       & 9         & 8         & -54.56367 & -48.33939 & -51.36724 & -59.43084 & -60.26411 & -51.92690\\\\\n",
       "\\end{tabular}\n"
      ],
      "text/markdown": [
       "\n",
       "| <!--/--> | posXY | posX | posY | 1 | 2 | 3 | 4 | 5 | 6 | \n",
       "|---|---|---|---|---|---|\n",
       "| 8-7 | 8-7       | 8         | 7         | -56.68887 | -45.24518 | -55.07055 | -57.59910 | -59.24071 | -51.31293 | \n",
       "| 8-8 | 8-8       | 8         | 8         | -57.07843 | -47.67784 | -57.24047 | -59.45330 | -59.65443 | -52.12153 | \n",
       "| 9-3 | 9-3       | 9         | 3         | -62.04891 | -50.80303 | -49.24919 | -51.72192 | -56.44777 | -55.64502 | \n",
       "| 9-4 | 9-4       | 9         | 4         | -63.94288 | -49.30732 | -51.67410 | -52.77017 | -56.62694 | -58.61451 | \n",
       "| 9-7 | 9-7       | 9         | 7         | -58.95216 | -49.00909 | -50.58772 | -61.89560 | -58.74623 | -52.84032 | \n",
       "| 9-8 | 9-8       | 9         | 8         | -54.56367 | -48.33939 | -51.36724 | -59.43084 | -60.26411 | -51.92690 | \n",
       "\n",
       "\n"
      ],
      "text/plain": [
       "    posXY posX posY 1         2         3         4         5         6        \n",
       "8-7 8-7   8    7    -56.68887 -45.24518 -55.07055 -57.59910 -59.24071 -51.31293\n",
       "8-8 8-8   8    8    -57.07843 -47.67784 -57.24047 -59.45330 -59.65443 -52.12153\n",
       "9-3 9-3   9    3    -62.04891 -50.80303 -49.24919 -51.72192 -56.44777 -55.64502\n",
       "9-4 9-4   9    4    -63.94288 -49.30732 -51.67410 -52.77017 -56.62694 -58.61451\n",
       "9-7 9-7   9    7    -58.95216 -49.00909 -50.58772 -61.89560 -58.74623 -52.84032\n",
       "9-8 9-8   9    8    -54.56367 -48.33939 -51.36724 -59.43084 -60.26411 -51.92690"
      ]
     },
     "metadata": {},
     "output_type": "display_data"
    }
   ],
   "source": [
    "selectTrain = function (angleNewObs, signals, m) {\n",
    "    refs = seq(0, by = 45, length  = 8)\n",
    "    nearestAngle = roundOrientation(angleNewObs)\n",
    "    if (m %% 2 == 1) {\n",
    "      angles = seq(-45 * (m - 1) /2, 45 * (m - 1) /2, length = m)\n",
    "    } else {\n",
    "        m=m+1\n",
    "        angles = seq(-45 * (m - 1) /2, 45 * (m - 1) /2, length = m)\n",
    "        if (sign(angleNewObs - nearestAngle) > -1)\n",
    "            angles = angles[ -1 ]\n",
    "        else\n",
    "            angles = angles[ -m ]\n",
    "    }\n",
    "    \n",
    "    angles = angles + nearestAngle\n",
    "    angles[angles < 0] = angles[ angles < 0 ] + 360\n",
    "    angles[angles > 360] = angles[ angles > 360 ] - 360\n",
    "    offlineSubset = signals[ signals$angle %in% angles, ]\n",
    "\n",
    "    reshapeSS = function(data, varSignal = \"signal\",\n",
    "                     keepVars = c(\"posXY\", \"posX\",\"posY\")) {\n",
    "      byLocation =\n",
    "        with(data, by(data, list(posXY),\n",
    "                      function(x) {\n",
    "                        ans = x[1, keepVars]\n",
    "                        avgSS = tapply(x[ , varSignal ], x$mac, mean)\n",
    "                          #print(class(avgSS))\n",
    "                          #print(list(ans$posXY, names(avgSS)))\n",
    "                          # TODO: bring dim.names back perhaps?\n",
    "                          dim.names = list(ans$posXY, names(avgSS))[2][[1]]\n",
    "                          #print(length(dim.names))\n",
    "                          #print(dim.names)\n",
    "                        y = matrix(avgSS, nrow = 1, ncol = 6)\n",
    "    cbind(ans, y)\n",
    "        }))\n",
    "      newDataSS = do.call(\"rbind\", byLocation)\n",
    "      return(newDataSS)\n",
    "    }\n",
    "\n",
    "\n",
    "    # TODO: I'm getting a bunch of warnings about columns length not matching\n",
    "    return(suppressWarnings(reshapeSS(offlineSubset, varSignal = \"avgSignal\")))\n",
    "}\n",
    "\n",
    "train130 = selectTrain(130, offlineSummary, m = 3)\n",
    "print(dim(train130))\n",
    "tail(train130)"
   ]
  },
  {
   "cell_type": "code",
   "execution_count": 11,
   "metadata": {},
   "outputs": [],
   "source": [
    "findNN = function(newSignal, trainSubset) {\n",
    "  diffs = apply(trainSubset[ , 4:9], 1,\n",
    "                function(x) x - newSignal)\n",
    "  dists = apply(diffs, 2, function(x) sqrt(sum(x^2)) )\n",
    "  closest = order(dists)\n",
    "  return(trainSubset[closest, 1:3 ])\n",
    "}"
   ]
  },
  {
   "cell_type": "code",
   "execution_count": 12,
   "metadata": {},
   "outputs": [],
   "source": [
    "predXY = function(newSignals, newAngles, trainData,\n",
    "                  numAngles = 1, k = 3){\n",
    "  closeXY = list(length = nrow(newSignals))\n",
    "  for (i in 1:nrow(newSignals)) {\n",
    "    trainSS = selectTrain(newAngles[i], trainData, m = numAngles)\n",
    "    closeXY[[i]] =\n",
    "      findNN(newSignal = as.numeric(newSignals[i, ]), trainSS)\n",
    "  }\n",
    "  estXY = lapply(closeXY,\n",
    "                 function(x) sapply(x[ , 2:3],\n",
    "                                    function(x) mean(x[1:k])))\n",
    "  estXY = do.call(\"rbind\", estXY)\n",
    "  return(estXY)\n",
    "}"
   ]
  },
  {
   "cell_type": "code",
   "execution_count": 13,
   "metadata": {},
   "outputs": [],
   "source": [
    "estXYk1 = predXY(newSignals = onlineSummary[ , 6:11],\n",
    "                 newAngles = onlineSummary[ , 4],\n",
    "                 offlineSummary, numAngles = 3, k = 1)\n",
    "\n",
    "estXYk3 = predXY(newSignals = onlineSummary[ , 6:11],\n",
    "                 newAngles = onlineSummary[ , 4],\n",
    "                 offlineSummary, numAngles = 3, k = 3)"
   ]
  },
  {
   "cell_type": "code",
   "execution_count": 14,
   "metadata": {},
   "outputs": [],
   "source": [
    "calcError = function(estXY, actualXY)\n",
    "   sum( rowSums( (estXY - actualXY)^2) )"
   ]
  },
  {
   "cell_type": "markdown",
   "metadata": {},
   "source": [
    "### Errors comparing K=m1 versus K=3"
   ]
  },
  {
   "cell_type": "code",
   "execution_count": 15,
   "metadata": {},
   "outputs": [
    {
     "data": {
      "text/html": [
       "<ol class=list-inline>\n",
       "\t<li>510.4003</li>\n",
       "\t<li>244.206966666667</li>\n",
       "</ol>\n"
      ],
      "text/latex": [
       "\\begin{enumerate*}\n",
       "\\item 510.4003\n",
       "\\item 244.206966666667\n",
       "\\end{enumerate*}\n"
      ],
      "text/markdown": [
       "1. 510.4003\n",
       "2. 244.206966666667\n",
       "\n",
       "\n"
      ],
      "text/plain": [
       "[1] 510.4003 244.2070"
      ]
     },
     "metadata": {},
     "output_type": "display_data"
    }
   ],
   "source": [
    "actualXY = onlineSummary[ , c(\"posX\", \"posY\")]\n",
    "sapply(list(estXYk1, estXYk3), calcError, actualXY)"
   ]
  },
  {
   "cell_type": "markdown",
   "metadata": {},
   "source": [
    "# The real analysis\n",
    "\n",
    "First let's create a new offline set from scratch and get its error"
   ]
  },
  {
   "cell_type": "code",
   "execution_count": 16,
   "metadata": {},
   "outputs": [
    {
     "name": "stdout",
     "output_type": "stream",
     "text": [
      "[1] \"00:0f:a3:39:e1:c0\" \"00:14:bf:b1:97:8a\" \"00:14:bf:3b:c7:c6\"\n",
      "[4] \"00:14:bf:b1:97:90\" \"00:14:bf:b1:97:8d\" \"00:14:bf:b1:97:81\"\n"
     ]
    },
    {
     "name": "stderr",
     "output_type": "stream",
     "text": [
      "Warning message in matrix(tokens[c(2, 4, 6:8, 10)], nrow = nrow(tmp), ncol = 6, :\n",
      "“data length exceeds size of matrix”Warning message in matrix(tokens[c(2, 4, 6:8, 10)], nrow = nrow(tmp), ncol = 6, :\n",
      "“data length exceeds size of matrix”Warning message in matrix(tokens[c(2, 4, 6:8, 10)], nrow = nrow(tmp), ncol = 6, :\n",
      "“data length exceeds size of matrix”Warning message in matrix(tokens[c(2, 4, 6:8, 10)], nrow = nrow(tmp), ncol = 6, :\n",
      "“data length exceeds size of matrix”Warning message in matrix(tokens[c(2, 4, 6:8, 10)], nrow = nrow(tmp), ncol = 6, :\n",
      "“data length exceeds size of matrix”Warning message in matrix(tokens[c(2, 4, 6:8, 10)], nrow = nrow(tmp), ncol = 6, :\n",
      "“data length exceeds size of matrix”"
     ]
    }
   ],
   "source": [
    "macs = c(#\"00:0f:a3:39:dd:cd\", # the first item will be brought in later\n",
    "         \"00:0f:a3:39:e1:c0\", # this item will be removed later\n",
    "         \"00:14:bf:b1:97:8a\", \"00:14:bf:3b:c7:c6\", \"00:14:bf:b1:97:90\", \"00:14:bf:b1:97:8d\", \"00:14:bf:b1:97:81\") \n",
    "offline2 = readData(OFFLINE_SOURCE, macs)\n"
   ]
  },
  {
   "cell_type": "markdown",
   "metadata": {},
   "source": [
    "### Error using MACs from the book"
   ]
  },
  {
   "cell_type": "code",
   "execution_count": 17,
   "metadata": {},
   "outputs": [],
   "source": [
    "offlineSummary2 = get.summary(offline2)"
   ]
  },
  {
   "cell_type": "code",
   "execution_count": 18,
   "metadata": {},
   "outputs": [],
   "source": [
    "kyPrediction.original.macs = predXY(newSignals = onlineSummary[ , 6:11],\n",
    "                 newAngles = onlineSummary[ , 4],\n",
    "                 offlineSummary2, numAngles = 3, k = 3)"
   ]
  },
  {
   "cell_type": "code",
   "execution_count": 19,
   "metadata": {},
   "outputs": [
    {
     "data": {
      "text/html": [
       "20561.0269666667"
      ],
      "text/latex": [
       "20561.0269666667"
      ],
      "text/markdown": [
       "20561.0269666667"
      ],
      "text/plain": [
       "[1] 20561.03"
      ]
     },
     "metadata": {},
     "output_type": "display_data"
    }
   ],
   "source": [
    "calcError(kyPrediction.original.macs, actualXY)"
   ]
  },
  {
   "cell_type": "markdown",
   "metadata": {},
   "source": [
    "### Error using different MACs"
   ]
  },
  {
   "cell_type": "code",
   "execution_count": 20,
   "metadata": {},
   "outputs": [
    {
     "name": "stdout",
     "output_type": "stream",
     "text": [
      "[1] \"00:0f:a3:39:dd:cd\" \"00:14:bf:b1:97:8a\" \"00:14:bf:3b:c7:c6\"\n",
      "[4] \"00:14:bf:b1:97:90\" \"00:14:bf:b1:97:8d\" \"00:14:bf:b1:97:81\"\n"
     ]
    },
    {
     "name": "stderr",
     "output_type": "stream",
     "text": [
      "Warning message in matrix(tokens[c(2, 4, 6:8, 10)], nrow = nrow(tmp), ncol = 6, :\n",
      "“data length exceeds size of matrix”Warning message in matrix(tokens[c(2, 4, 6:8, 10)], nrow = nrow(tmp), ncol = 6, :\n",
      "“data length exceeds size of matrix”Warning message in matrix(tokens[c(2, 4, 6:8, 10)], nrow = nrow(tmp), ncol = 6, :\n",
      "“data length exceeds size of matrix”Warning message in matrix(tokens[c(2, 4, 6:8, 10)], nrow = nrow(tmp), ncol = 6, :\n",
      "“data length exceeds size of matrix”Warning message in matrix(tokens[c(2, 4, 6:8, 10)], nrow = nrow(tmp), ncol = 6, :\n",
      "“data length exceeds size of matrix”Warning message in matrix(tokens[c(2, 4, 6:8, 10)], nrow = nrow(tmp), ncol = 6, :\n",
      "“data length exceeds size of matrix”"
     ]
    }
   ],
   "source": [
    "macs2 = c(\"00:0f:a3:39:dd:cd\",\n",
    "         #\"00:0f:a3:39:e1:c0\",\n",
    "         \"00:14:bf:b1:97:8a\", \"00:14:bf:3b:c7:c6\", \"00:14:bf:b1:97:90\", \"00:14:bf:b1:97:8d\", \"00:14:bf:b1:97:81\") \n",
    "offline3 = readData(OFFLINE_SOURCE, macs2)\n"
   ]
  },
  {
   "cell_type": "code",
   "execution_count": 21,
   "metadata": {},
   "outputs": [],
   "source": [
    "offlineSummary3 = get.summary(offline3)"
   ]
  },
  {
   "cell_type": "code",
   "execution_count": 22,
   "metadata": {},
   "outputs": [],
   "source": [
    "kyPrediction.new.macs = predXY(newSignals = onlineSummary[ , 6:11],\n",
    "                 newAngles = onlineSummary[ , 4],\n",
    "                 offlineSummary3, numAngles = 3, k = 3)"
   ]
  },
  {
   "cell_type": "code",
   "execution_count": 23,
   "metadata": {},
   "outputs": [
    {
     "data": {
      "text/html": [
       "17582.8958555556"
      ],
      "text/latex": [
       "17582.8958555556"
      ],
      "text/markdown": [
       "17582.8958555556"
      ],
      "text/plain": [
       "[1] 17582.9"
      ]
     },
     "metadata": {},
     "output_type": "display_data"
    }
   ],
   "source": [
    "calcError(kyPrediction.new.macs, actualXY)"
   ]
  },
  {
   "cell_type": "code",
   "execution_count": null,
   "metadata": {},
   "outputs": [],
   "source": []
  }
 ],
 "metadata": {
  "kernelspec": {
   "display_name": "R",
   "language": "R",
   "name": "ir"
  },
  "language_info": {
   "codemirror_mode": "r",
   "file_extension": ".r",
   "mimetype": "text/x-r-source",
   "name": "R",
   "pygments_lexer": "r",
   "version": "3.5.1"
  }
 },
 "nbformat": 4,
 "nbformat_minor": 2
}
