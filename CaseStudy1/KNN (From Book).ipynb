{
 "cells": [
  {
   "cell_type": "markdown",
   "metadata": {},
   "source": [
    "# KNN\n",
    "\n",
    "First run the file [/notebooks/CaseStudy1/Clean%20Data%20(From%20Book).ipynb](/notebooks/CaseStudy1/Clean%20Data%20(From%20Book).ipynb)\n"
   ]
  },
  {
   "cell_type": "code",
   "execution_count": 1,
   "metadata": {},
   "outputs": [],
   "source": [
    "OFFLINE_SOURCE = '../data/offline.final.trace.csv'\n",
    "\n",
    "NUM_ROWS_FOR_SAMPLE = 1000 # out of 914,951 rows"
   ]
  },
  {
   "cell_type": "code",
   "execution_count": 2,
   "metadata": {},
   "outputs": [],
   "source": [
    "offline = read.csv(OFFLINE_SOURCE, row.names=1)"
   ]
  },
  {
   "cell_type": "code",
   "execution_count": 3,
   "metadata": {},
   "outputs": [],
   "source": [
    "trainSample = offline[sample(nrow(offline), NUM_ROWS_FOR_SAMPLE), ]"
   ]
  },
  {
   "cell_type": "code",
   "execution_count": 4,
   "metadata": {},
   "outputs": [],
   "source": [
    "#Create a special factor that contains all of the unique combinations \n",
    "#of the observed (x, y) pairs for the 166 locations. \n",
    "\n",
    "offline$posXY = paste(offline$posX, offline$posY, sep = \"-\")\n",
    "\n",
    "#create a list of data frames for every combination of (x, y), angle, and access point\n",
    "byLocAngleAP = with(offline,\n",
    "by(offline, list(posXY, angle, mac),\n",
    "function(x) x))\n",
    "   \n",
    "#create summary statistics on each of the data frames\n",
    "   \n",
    "signalSummary =\n",
    "    lapply(byLocAngleAP,\n",
    "    function(oneLoc) {\n",
    "    ans = oneLoc[1, ]\n",
    "    ans$medSignal = median(oneLoc$signal)\n",
    "    ans$avgSignal = mean(oneLoc$signal)\n",
    "    ans$num = length(oneLoc$signal)\n",
    "    ans$sdSignal = sd(oneLoc$signal)\n",
    "    ans$iqrSignal = IQR(oneLoc$signal)\n",
    "    ans\n",
    "    })\n",
    "   \n"
   ]
  },
  {
   "cell_type": "code",
   "execution_count": 5,
   "metadata": {},
   "outputs": [],
   "source": [
    "offlineSummary = do.call(\"rbind\", signalSummary)"
   ]
  },
  {
   "cell_type": "code",
   "execution_count": 6,
   "metadata": {},
   "outputs": [],
   "source": [
    "# provide a scalar x and y along with a dataframe that has the columns posX and posY\n",
    "# will return the dataframe sorted by whose posX/posY values are closest to the x/y provided\n",
    "findNN.with.x.y = function(x, y, trainSubset) {\n",
    "  diffs = apply(trainSubset[c('posX', 'posY')], 1, function(row) row - c(x, y))\n",
    "  dists = apply(diffs, 2, function(x) sqrt(sum(x^2)) )\n",
    "  closest = order(dists)\n",
    "  return(trainSubset[closest,])\n",
    "}"
   ]
  },
  {
   "cell_type": "code",
   "execution_count": 7,
   "metadata": {},
   "outputs": [
    {
     "data": {
      "text/html": [
       "<table>\n",
       "<thead><tr><th></th><th scope=col>time</th><th scope=col>posX</th><th scope=col>posY</th><th scope=col>orientation</th><th scope=col>mac</th><th scope=col>signal</th><th scope=col>rawTime</th><th scope=col>angle</th></tr></thead>\n",
       "<tbody>\n",
       "\t<tr><th scope=row>625341</th><td>2006-02-11 14:55:19</td><td>4                  </td><td>8                  </td><td> 45.2              </td><td>00:14:bf:b1:97:8a  </td><td>-54                </td><td>1.139691e+12       </td><td> 45                </td></tr>\n",
       "\t<tr><th scope=row>631251</th><td>2006-02-11 14:59:37</td><td>4                  </td><td>8                  </td><td>315.3              </td><td>00:0f:a3:39:e1:c0  </td><td>-53                </td><td>1.139692e+12       </td><td>315                </td></tr>\n",
       "\t<tr><th scope=row>631436</th><td>2006-02-11 14:59:41</td><td>4                  </td><td>8                  </td><td>315.3              </td><td>00:0f:a3:39:dd:cd  </td><td>-61                </td><td>1.139692e+12       </td><td>315                </td></tr>\n",
       "\t<tr><th scope=row>625893</th><td>2006-02-11 14:55:38</td><td>4                  </td><td>8                  </td><td> 45.2              </td><td>00:14:bf:3b:c7:c6  </td><td>-61                </td><td>1.139691e+12       </td><td> 45                </td></tr>\n",
       "\t<tr><th scope=row>631041</th><td>2006-02-11 14:59:30</td><td>4                  </td><td>8                  </td><td>315.3              </td><td>00:14:bf:b1:97:8d  </td><td>-63                </td><td>1.139692e+12       </td><td>315                </td></tr>\n",
       "\t<tr><th scope=row>629772</th><td>2006-02-11 14:58:39</td><td>4                  </td><td>8                  </td><td>271.6              </td><td>00:14:bf:b1:97:81  </td><td>-66                </td><td>1.139692e+12       </td><td>270                </td></tr>\n",
       "</tbody>\n",
       "</table>\n"
      ],
      "text/latex": [
       "\\begin{tabular}{r|llllllll}\n",
       "  & time & posX & posY & orientation & mac & signal & rawTime & angle\\\\\n",
       "\\hline\n",
       "\t625341 & 2006-02-11 14:55:19 & 4                   & 8                   &  45.2               & 00:14:bf:b1:97:8a   & -54                 & 1.139691e+12        &  45                \\\\\n",
       "\t631251 & 2006-02-11 14:59:37 & 4                   & 8                   & 315.3               & 00:0f:a3:39:e1:c0   & -53                 & 1.139692e+12        & 315                \\\\\n",
       "\t631436 & 2006-02-11 14:59:41 & 4                   & 8                   & 315.3               & 00:0f:a3:39:dd:cd   & -61                 & 1.139692e+12        & 315                \\\\\n",
       "\t625893 & 2006-02-11 14:55:38 & 4                   & 8                   &  45.2               & 00:14:bf:3b:c7:c6   & -61                 & 1.139691e+12        &  45                \\\\\n",
       "\t631041 & 2006-02-11 14:59:30 & 4                   & 8                   & 315.3               & 00:14:bf:b1:97:8d   & -63                 & 1.139692e+12        & 315                \\\\\n",
       "\t629772 & 2006-02-11 14:58:39 & 4                   & 8                   & 271.6               & 00:14:bf:b1:97:81   & -66                 & 1.139692e+12        & 270                \\\\\n",
       "\\end{tabular}\n"
      ],
      "text/markdown": [
       "\n",
       "| <!--/--> | time | posX | posY | orientation | mac | signal | rawTime | angle | \n",
       "|---|---|---|---|---|---|\n",
       "| 625341 | 2006-02-11 14:55:19 | 4                   | 8                   |  45.2               | 00:14:bf:b1:97:8a   | -54                 | 1.139691e+12        |  45                 | \n",
       "| 631251 | 2006-02-11 14:59:37 | 4                   | 8                   | 315.3               | 00:0f:a3:39:e1:c0   | -53                 | 1.139692e+12        | 315                 | \n",
       "| 631436 | 2006-02-11 14:59:41 | 4                   | 8                   | 315.3               | 00:0f:a3:39:dd:cd   | -61                 | 1.139692e+12        | 315                 | \n",
       "| 625893 | 2006-02-11 14:55:38 | 4                   | 8                   |  45.2               | 00:14:bf:3b:c7:c6   | -61                 | 1.139691e+12        |  45                 | \n",
       "| 631041 | 2006-02-11 14:59:30 | 4                   | 8                   | 315.3               | 00:14:bf:b1:97:8d   | -63                 | 1.139692e+12        | 315                 | \n",
       "| 629772 | 2006-02-11 14:58:39 | 4                   | 8                   | 271.6               | 00:14:bf:b1:97:81   | -66                 | 1.139692e+12        | 270                 | \n",
       "\n",
       "\n"
      ],
      "text/plain": [
       "       time                posX posY orientation mac               signal\n",
       "625341 2006-02-11 14:55:19 4    8     45.2       00:14:bf:b1:97:8a -54   \n",
       "631251 2006-02-11 14:59:37 4    8    315.3       00:0f:a3:39:e1:c0 -53   \n",
       "631436 2006-02-11 14:59:41 4    8    315.3       00:0f:a3:39:dd:cd -61   \n",
       "625893 2006-02-11 14:55:38 4    8     45.2       00:14:bf:3b:c7:c6 -61   \n",
       "631041 2006-02-11 14:59:30 4    8    315.3       00:14:bf:b1:97:8d -63   \n",
       "629772 2006-02-11 14:58:39 4    8    271.6       00:14:bf:b1:97:81 -66   \n",
       "       rawTime      angle\n",
       "625341 1.139691e+12  45  \n",
       "631251 1.139692e+12 315  \n",
       "631436 1.139692e+12 315  \n",
       "625893 1.139691e+12  45  \n",
       "631041 1.139692e+12 315  \n",
       "629772 1.139692e+12 270  "
      ]
     },
     "metadata": {},
     "output_type": "display_data"
    }
   ],
   "source": [
    "# Idealy, this would have a bunch of posX=4, posY=8 rows\n",
    "head(findNN.with.x.y(4, 8, trainSample))"
   ]
  },
  {
   "cell_type": "code",
   "execution_count": 8,
   "metadata": {},
   "outputs": [],
   "source": [
    "roundOrientation = function(angles) {\n",
    "  refs = seq(0, by = 45, length  = 9)\n",
    "  q = sapply(angles, function(o) which.min(abs(o - refs)))\n",
    "  c(refs[1:8], 0)[q]\n",
    "}"
   ]
  },
  {
   "cell_type": "code",
   "execution_count": 88,
   "metadata": {
    "scrolled": false
   },
   "outputs": [
    {
     "name": "stdout",
     "output_type": "stream",
     "text": [
      "[1] 166   9\n"
     ]
    },
    {
     "data": {
      "text/html": [
       "<table>\n",
       "<thead><tr><th></th><th scope=col>posXY</th><th scope=col>posX</th><th scope=col>posY</th><th scope=col>1</th><th scope=col>2</th><th scope=col>3</th><th scope=col>4</th><th scope=col>5</th><th scope=col>6</th></tr></thead>\n",
       "<tbody>\n",
       "\t<tr><th scope=row>0-0</th><td>0-0      </td><td>0        </td><td> 0       </td><td>-71.76555</td><td>-52.37243</td><td>-66.13039</td><td>-63.19262</td><td>-35.58063</td><td>-64.25411</td></tr>\n",
       "\t<tr><th scope=row>0-1</th><td>0-1      </td><td>0        </td><td> 1       </td><td>-70.47375</td><td>-52.98182</td><td>-65.37177</td><td>-63.72941</td><td>-39.37649</td><td>-65.44867</td></tr>\n",
       "\t<tr><th scope=row>0-10</th><td>0-10     </td><td>0        </td><td>10       </td><td>-70.12946</td><td>-56.34184</td><td>-65.67238</td><td>-69.16041</td><td>-44.71545</td><td>-66.85781</td></tr>\n",
       "\t<tr><th scope=row>0-11</th><td>0-11     </td><td>0        </td><td>11       </td><td>-70.62604</td><td>-54.73420</td><td>-67.17593</td><td>-70.34538</td><td>-48.34689</td><td>-66.78383</td></tr>\n",
       "\t<tr><th scope=row>0-12</th><td>0-12     </td><td>0        </td><td>12       </td><td>-68.84840</td><td>-56.03030</td><td>-70.46493</td><td>-72.28758</td><td>-45.17264</td><td>-66.72696</td></tr>\n",
       "\t<tr><th scope=row>0-13</th><td>0-13     </td><td>0        </td><td>13       </td><td>-73.49886</td><td>-54.55152</td><td>-71.19211</td><td>-72.58496</td><td>-43.32784</td><td>-68.72616</td></tr>\n",
       "</tbody>\n",
       "</table>\n"
      ],
      "text/latex": [
       "\\begin{tabular}{r|lllllllll}\n",
       "  & posXY & posX & posY & 1 & 2 & 3 & 4 & 5 & 6\\\\\n",
       "\\hline\n",
       "\t0-0 & 0-0       & 0         &  0        & -71.76555 & -52.37243 & -66.13039 & -63.19262 & -35.58063 & -64.25411\\\\\n",
       "\t0-1 & 0-1       & 0         &  1        & -70.47375 & -52.98182 & -65.37177 & -63.72941 & -39.37649 & -65.44867\\\\\n",
       "\t0-10 & 0-10      & 0         & 10        & -70.12946 & -56.34184 & -65.67238 & -69.16041 & -44.71545 & -66.85781\\\\\n",
       "\t0-11 & 0-11      & 0         & 11        & -70.62604 & -54.73420 & -67.17593 & -70.34538 & -48.34689 & -66.78383\\\\\n",
       "\t0-12 & 0-12      & 0         & 12        & -68.84840 & -56.03030 & -70.46493 & -72.28758 & -45.17264 & -66.72696\\\\\n",
       "\t0-13 & 0-13      & 0         & 13        & -73.49886 & -54.55152 & -71.19211 & -72.58496 & -43.32784 & -68.72616\\\\\n",
       "\\end{tabular}\n"
      ],
      "text/markdown": [
       "\n",
       "| <!--/--> | posXY | posX | posY | 1 | 2 | 3 | 4 | 5 | 6 | \n",
       "|---|---|---|---|---|---|\n",
       "| 0-0 | 0-0       | 0         |  0        | -71.76555 | -52.37243 | -66.13039 | -63.19262 | -35.58063 | -64.25411 | \n",
       "| 0-1 | 0-1       | 0         |  1        | -70.47375 | -52.98182 | -65.37177 | -63.72941 | -39.37649 | -65.44867 | \n",
       "| 0-10 | 0-10      | 0         | 10        | -70.12946 | -56.34184 | -65.67238 | -69.16041 | -44.71545 | -66.85781 | \n",
       "| 0-11 | 0-11      | 0         | 11        | -70.62604 | -54.73420 | -67.17593 | -70.34538 | -48.34689 | -66.78383 | \n",
       "| 0-12 | 0-12      | 0         | 12        | -68.84840 | -56.03030 | -70.46493 | -72.28758 | -45.17264 | -66.72696 | \n",
       "| 0-13 | 0-13      | 0         | 13        | -73.49886 | -54.55152 | -71.19211 | -72.58496 | -43.32784 | -68.72616 | \n",
       "\n",
       "\n"
      ],
      "text/plain": [
       "     posXY posX posY 1         2         3         4         5        \n",
       "0-0  0-0   0     0   -71.76555 -52.37243 -66.13039 -63.19262 -35.58063\n",
       "0-1  0-1   0     1   -70.47375 -52.98182 -65.37177 -63.72941 -39.37649\n",
       "0-10 0-10  0    10   -70.12946 -56.34184 -65.67238 -69.16041 -44.71545\n",
       "0-11 0-11  0    11   -70.62604 -54.73420 -67.17593 -70.34538 -48.34689\n",
       "0-12 0-12  0    12   -68.84840 -56.03030 -70.46493 -72.28758 -45.17264\n",
       "0-13 0-13  0    13   -73.49886 -54.55152 -71.19211 -72.58496 -43.32784\n",
       "     6        \n",
       "0-0  -64.25411\n",
       "0-1  -65.44867\n",
       "0-10 -66.85781\n",
       "0-11 -66.78383\n",
       "0-12 -66.72696\n",
       "0-13 -68.72616"
      ]
     },
     "metadata": {},
     "output_type": "display_data"
    }
   ],
   "source": [
    "selectTrain = function (angleNewObs, signals, m) {\n",
    "    refs = seq(0, by = 45, length  = 8)\n",
    "    nearestAngle = roundOrientation(angleNewObs)\n",
    "    if (m %% 2 == 1) {\n",
    "      angles = seq(-45 * (m - 1) /2, 45 * (m - 1) /2, length = m)\n",
    "    } else {\n",
    "        m=m+1\n",
    "        angles = seq(-45 * (m - 1) /2, 45 * (m - 1) /2, length = m)\n",
    "        if (sign(angleNewObs - nearestAngle) > -1)\n",
    "            angles = angles[ -1 ]\n",
    "        else\n",
    "            angles = angles[ -m ]\n",
    "    }\n",
    "    \n",
    "    angles = angles + nearestAngle\n",
    "    angles[angles < 0] = angles[ angles < 0 ] + 360\n",
    "    angles[angles > 360] = angles[ angles > 360 ] - 360\n",
    "    offlineSubset = offlineSummary[ offlineSummary$angle %in% angles, ]\n",
    "\n",
    "    reshapeSS = function(data, varSignal = \"signal\",\n",
    "                     keepVars = c(\"posXY\", \"posX\",\"posY\")) {\n",
    "      byLocation =\n",
    "        with(data, by(data, list(posXY),\n",
    "                      function(x) {\n",
    "                        ans = x[1, keepVars]\n",
    "                        avgSS = tapply(x[ , varSignal ], x$mac, mean)\n",
    "                          # TODO: bring dim.names back perhaps?\n",
    "                          #dim.names = as.list(list(ans$posXY, names(avgSS))[2][[1]])\n",
    "                          #print(length(dim.names))\n",
    "                        y = matrix(avgSS, nrow = 1, ncol = 6)\n",
    "    cbind(ans, y)\n",
    "        }))\n",
    "      newDataSS = do.call(\"rbind\", byLocation)\n",
    "      return(newDataSS)\n",
    "    }\n",
    "\n",
    "\n",
    "    # TODO: I'm getting a bunch of warnings about columns length not matching\n",
    "    return(suppressWarnings(reshapeSS(offlineSubset, varSignal = \"avgSignal\")))\n",
    "}\n",
    "\n",
    "train130 = selectTrain(130, offlineSummary, m = 3)\n",
    "print(dim(train130))\n",
    "head(train130)"
   ]
  }
 ],
 "metadata": {
  "kernelspec": {
   "display_name": "R",
   "language": "R",
   "name": "ir"
  },
  "language_info": {
   "codemirror_mode": "r",
   "file_extension": ".r",
   "mimetype": "text/x-r-source",
   "name": "R",
   "pygments_lexer": "r",
   "version": "3.5.1"
  }
 },
 "nbformat": 4,
 "nbformat_minor": 2
}
