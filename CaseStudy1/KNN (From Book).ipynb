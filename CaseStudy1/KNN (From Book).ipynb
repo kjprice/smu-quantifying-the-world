{
 "cells": [
  {
   "cell_type": "markdown",
   "metadata": {},
   "source": [
    "# KNN\n",
    "\n",
    "First run the file [/notebooks/CaseStudy1/Clean%20Data%20(From%20Book).ipynb](/notebooks/CaseStudy1/Clean%20Data%20(From%20Book).ipynb)\n"
   ]
  },
  {
   "cell_type": "code",
   "execution_count": 21,
   "metadata": {},
   "outputs": [],
   "source": [
    "OFFLINE_SOURCE = '../data/offline.final.trace.csv'\n",
    "\n",
    "NUM_ROWS_FOR_SAMPLE = 1000 # out of 914,951 rows"
   ]
  },
  {
   "cell_type": "code",
   "execution_count": 3,
   "metadata": {},
   "outputs": [],
   "source": [
    "offline = read.csv(OFFLINE_SOURCE, row.names=1)"
   ]
  },
  {
   "cell_type": "code",
   "execution_count": 22,
   "metadata": {},
   "outputs": [],
   "source": [
    "trainSample = offline[sample(nrow(offline), NUM_ROWS_FOR_SAMPLE), ]"
   ]
  },
  {
   "cell_type": "code",
   "execution_count": 9,
   "metadata": {},
   "outputs": [],
   "source": [
    "#Create a special factor that contains all of the unique combinations \n",
    "#of the observed (x, y) pairs for the 166 locations. \n",
    "\n",
    "offline$posXY = paste(offline$posX, offline$posY, sep = \"-\")\n",
    "\n",
    "#create a list of data frames for every combination of (x, y), angle, and access point\n",
    "byLocAngleAP = with(offline,\n",
    "by(offline, list(posXY, angle, mac),\n",
    "function(x) x))\n",
    "   \n",
    "#create summary statistics on each of the data frames\n",
    "   \n",
    "signalSummary =\n",
    "    lapply(byLocAngleAP,\n",
    "    function(oneLoc) {\n",
    "    ans = oneLoc[1, ]\n",
    "    ans$medSignal = median(oneLoc$signal)\n",
    "    ans$avgSignal = mean(oneLoc$signal)\n",
    "    ans$num = length(oneLoc$signal)\n",
    "    ans$sdSignal = sd(oneLoc$signal)\n",
    "    ans$iqrSignal = IQR(oneLoc$signal)\n",
    "    ans\n",
    "    })\n",
    "   \n"
   ]
  },
  {
   "cell_type": "code",
   "execution_count": 10,
   "metadata": {},
   "outputs": [],
   "source": [
    "offlineSummary = do.call(\"rbind\", signalSummary)"
   ]
  },
  {
   "cell_type": "code",
   "execution_count": 61,
   "metadata": {},
   "outputs": [],
   "source": [
    "# provide a scalar x and y along with a dataframe that has the columns posX and posY\n",
    "# will return the dataframe sorted by whose posX/posY values are closest to the x/y provided\n",
    "findNN.with.x.y = function(x, y, trainSubset) {\n",
    "  diffs = apply(trainSubset[c('posX', 'posY')], 1, function(row) row - c(x, y))\n",
    "  dists = apply(diffs, 2, function(x) sqrt(sum(x^2)) )\n",
    "  closest = order(dists)\n",
    "  return(trainSubset[closest,])\n",
    "}"
   ]
  },
  {
   "cell_type": "code",
   "execution_count": 62,
   "metadata": {},
   "outputs": [
    {
     "data": {
      "text/html": [
       "<table>\n",
       "<thead><tr><th></th><th scope=col>time</th><th scope=col>posX</th><th scope=col>posY</th><th scope=col>orientation</th><th scope=col>mac</th><th scope=col>signal</th><th scope=col>rawTime</th><th scope=col>angle</th><th scope=col>posXY</th></tr></thead>\n",
       "<tbody>\n",
       "\t<tr><th scope=row>625381</th><td>2006-02-11 14:55:20</td><td>4                  </td><td>8                  </td><td> 45.2              </td><td>00:0f:a3:39:dd:cd  </td><td>-72                </td><td>1.139691e+12       </td><td> 45                </td><td>4-8                </td></tr>\n",
       "\t<tr><th scope=row>625644</th><td>2006-02-11 14:55:30</td><td>4                  </td><td>8                  </td><td> 45.2              </td><td>00:14:bf:b1:97:8a  </td><td>-52                </td><td>1.139691e+12       </td><td> 45                </td><td>4-8                </td></tr>\n",
       "\t<tr><th scope=row>637234</th><td>2006-02-11 15:04:45</td><td>3                  </td><td>8                  </td><td>225.8              </td><td>00:14:bf:b1:97:8d  </td><td>-60                </td><td>1.139692e+12       </td><td>225                </td><td>3-8                </td></tr>\n",
       "\t<tr><th scope=row>585872</th><td>2006-02-11 14:01:06</td><td>4                  </td><td>7                  </td><td>271.0              </td><td>00:0f:a3:39:dd:cd  </td><td>-67                </td><td>1.139688e+12       </td><td>270                </td><td>4-7                </td></tr>\n",
       "\t<tr><th scope=row>580932</th><td>2006-02-11 13:56:48</td><td>4                  </td><td>7                  </td><td> 45.9              </td><td>00:0f:a3:39:dd:cd  </td><td>-61                </td><td>1.139688e+12       </td><td> 45                </td><td>4-7                </td></tr>\n",
       "\t<tr><th scope=row>638305</th><td>2006-02-11 15:05:55</td><td>3                  </td><td>8                  </td><td>315.6              </td><td>00:14:bf:3b:c7:c6  </td><td>-67                </td><td>1.139692e+12       </td><td>315                </td><td>3-8                </td></tr>\n",
       "</tbody>\n",
       "</table>\n"
      ],
      "text/latex": [
       "\\begin{tabular}{r|lllllllll}\n",
       "  & time & posX & posY & orientation & mac & signal & rawTime & angle & posXY\\\\\n",
       "\\hline\n",
       "\t625381 & 2006-02-11 14:55:20 & 4                   & 8                   &  45.2               & 00:0f:a3:39:dd:cd   & -72                 & 1.139691e+12        &  45                 & 4-8                \\\\\n",
       "\t625644 & 2006-02-11 14:55:30 & 4                   & 8                   &  45.2               & 00:14:bf:b1:97:8a   & -52                 & 1.139691e+12        &  45                 & 4-8                \\\\\n",
       "\t637234 & 2006-02-11 15:04:45 & 3                   & 8                   & 225.8               & 00:14:bf:b1:97:8d   & -60                 & 1.139692e+12        & 225                 & 3-8                \\\\\n",
       "\t585872 & 2006-02-11 14:01:06 & 4                   & 7                   & 271.0               & 00:0f:a3:39:dd:cd   & -67                 & 1.139688e+12        & 270                 & 4-7                \\\\\n",
       "\t580932 & 2006-02-11 13:56:48 & 4                   & 7                   &  45.9               & 00:0f:a3:39:dd:cd   & -61                 & 1.139688e+12        &  45                 & 4-7                \\\\\n",
       "\t638305 & 2006-02-11 15:05:55 & 3                   & 8                   & 315.6               & 00:14:bf:3b:c7:c6   & -67                 & 1.139692e+12        & 315                 & 3-8                \\\\\n",
       "\\end{tabular}\n"
      ],
      "text/markdown": [
       "\n",
       "| <!--/--> | time | posX | posY | orientation | mac | signal | rawTime | angle | posXY | \n",
       "|---|---|---|---|---|---|\n",
       "| 625381 | 2006-02-11 14:55:20 | 4                   | 8                   |  45.2               | 00:0f:a3:39:dd:cd   | -72                 | 1.139691e+12        |  45                 | 4-8                 | \n",
       "| 625644 | 2006-02-11 14:55:30 | 4                   | 8                   |  45.2               | 00:14:bf:b1:97:8a   | -52                 | 1.139691e+12        |  45                 | 4-8                 | \n",
       "| 637234 | 2006-02-11 15:04:45 | 3                   | 8                   | 225.8               | 00:14:bf:b1:97:8d   | -60                 | 1.139692e+12        | 225                 | 3-8                 | \n",
       "| 585872 | 2006-02-11 14:01:06 | 4                   | 7                   | 271.0               | 00:0f:a3:39:dd:cd   | -67                 | 1.139688e+12        | 270                 | 4-7                 | \n",
       "| 580932 | 2006-02-11 13:56:48 | 4                   | 7                   |  45.9               | 00:0f:a3:39:dd:cd   | -61                 | 1.139688e+12        |  45                 | 4-7                 | \n",
       "| 638305 | 2006-02-11 15:05:55 | 3                   | 8                   | 315.6               | 00:14:bf:3b:c7:c6   | -67                 | 1.139692e+12        | 315                 | 3-8                 | \n",
       "\n",
       "\n"
      ],
      "text/plain": [
       "       time                posX posY orientation mac               signal\n",
       "625381 2006-02-11 14:55:20 4    8     45.2       00:0f:a3:39:dd:cd -72   \n",
       "625644 2006-02-11 14:55:30 4    8     45.2       00:14:bf:b1:97:8a -52   \n",
       "637234 2006-02-11 15:04:45 3    8    225.8       00:14:bf:b1:97:8d -60   \n",
       "585872 2006-02-11 14:01:06 4    7    271.0       00:0f:a3:39:dd:cd -67   \n",
       "580932 2006-02-11 13:56:48 4    7     45.9       00:0f:a3:39:dd:cd -61   \n",
       "638305 2006-02-11 15:05:55 3    8    315.6       00:14:bf:3b:c7:c6 -67   \n",
       "       rawTime      angle posXY\n",
       "625381 1.139691e+12  45   4-8  \n",
       "625644 1.139691e+12  45   4-8  \n",
       "637234 1.139692e+12 225   3-8  \n",
       "585872 1.139688e+12 270   4-7  \n",
       "580932 1.139688e+12  45   4-7  \n",
       "638305 1.139692e+12 315   3-8  "
      ]
     },
     "metadata": {},
     "output_type": "display_data"
    }
   ],
   "source": [
    "# Idealy, this would have a bunch of posX=4, posY=8 rows\n",
    "head(findNN.with.x.y(4, 8, trainSample))"
   ]
  },
  {
   "cell_type": "code",
   "execution_count": null,
   "metadata": {},
   "outputs": [],
   "source": []
  }
 ],
 "metadata": {
  "kernelspec": {
   "display_name": "R",
   "language": "R",
   "name": "ir"
  },
  "language_info": {
   "codemirror_mode": "r",
   "file_extension": ".r",
   "mimetype": "text/x-r-source",
   "name": "R",
   "pygments_lexer": "r",
   "version": "3.5.1"
  }
 },
 "nbformat": 4,
 "nbformat_minor": 2
}
