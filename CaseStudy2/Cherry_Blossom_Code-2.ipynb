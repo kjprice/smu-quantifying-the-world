{
 "cells": [
  {
   "cell_type": "code",
   "execution_count": 118,
   "metadata": {},
   "outputs": [],
   "source": [
    "library(XML)"
   ]
  },
  {
   "cell_type": "code",
   "execution_count": 119,
   "metadata": {},
   "outputs": [
    {
     "data": {
      "text/html": [
       "<ol class=list-inline>\n",
       "\t<li>'http://www.cherryblossom.org/results/1999/cb99m.html'</li>\n",
       "\t<li>'http://www.cherryblossom.org/results/2012/2012cucb10m-m.htm'</li>\n",
       "</ol>\n"
      ],
      "text/latex": [
       "\\begin{enumerate*}\n",
       "\\item 'http://www.cherryblossom.org/results/1999/cb99m.html'\n",
       "\\item 'http://www.cherryblossom.org/results/2012/2012cucb10m-m.htm'\n",
       "\\end{enumerate*}\n"
      ],
      "text/markdown": [
       "1. 'http://www.cherryblossom.org/results/1999/cb99m.html'\n",
       "2. 'http://www.cherryblossom.org/results/2012/2012cucb10m-m.htm'\n",
       "\n",
       "\n"
      ],
      "text/plain": [
       "[1] \"http://www.cherryblossom.org/results/1999/cb99m.html\"       \n",
       "[2] \"http://www.cherryblossom.org/results/2012/2012cucb10m-m.htm\""
      ]
     },
     "metadata": {},
     "output_type": "display_data"
    }
   ],
   "source": [
    "menURLs = \n",
    "  c(\"results/1999/cb99m.html\",\"results/2012/2012cucb10m-m.htm\")\n",
    "ubase = \"http://www.cherryblossom.org/\"\n",
    "murls = paste(ubase, menURLs, sep = \"\")\n",
    "\n",
    "murls[1:2]"
   ]
  },
  {
   "cell_type": "code",
   "execution_count": 120,
   "metadata": {},
   "outputs": [
    {
     "data": {
      "text/html": [
       "<ol class=list-inline>\n",
       "\t<li>TRUE</li>\n",
       "\t<li>TRUE</li>\n",
       "</ol>\n"
      ],
      "text/latex": [
       "\\begin{enumerate*}\n",
       "\\item TRUE\n",
       "\\item TRUE\n",
       "\\end{enumerate*}\n"
      ],
      "text/markdown": [
       "1. TRUE\n",
       "2. TRUE\n",
       "\n",
       "\n"
      ],
      "text/plain": [
       "[1] TRUE TRUE"
      ]
     },
     "metadata": {},
     "output_type": "display_data"
    }
   ],
   "source": [
    "murls==urls"
   ]
  },
  {
   "cell_type": "code",
   "execution_count": 121,
   "metadata": {},
   "outputs": [
    {
     "data": {
      "text/html": [
       "<ol class=list-inline>\n",
       "\t<li>'http://www.cherryblossom.org/results/1999/cb99f.html'</li>\n",
       "\t<li>'http://www.cherryblossom.org/results/2012/2012cucb10m-f.htm'</li>\n",
       "</ol>\n"
      ],
      "text/latex": [
       "\\begin{enumerate*}\n",
       "\\item 'http://www.cherryblossom.org/results/1999/cb99f.html'\n",
       "\\item 'http://www.cherryblossom.org/results/2012/2012cucb10m-f.htm'\n",
       "\\end{enumerate*}\n"
      ],
      "text/markdown": [
       "1. 'http://www.cherryblossom.org/results/1999/cb99f.html'\n",
       "2. 'http://www.cherryblossom.org/results/2012/2012cucb10m-f.htm'\n",
       "\n",
       "\n"
      ],
      "text/plain": [
       "[1] \"http://www.cherryblossom.org/results/1999/cb99f.html\"       \n",
       "[2] \"http://www.cherryblossom.org/results/2012/2012cucb10m-f.htm\""
      ]
     },
     "metadata": {},
     "output_type": "display_data"
    }
   ],
   "source": [
    "womenURLs = \n",
    "  c(\"results/1999/cb99f.html\",\"results/2012/2012cucb10m-f.htm\")\n",
    "ubase = \"http://www.cherryblossom.org/\"\n",
    "furls = paste(ubase, womenURLs, sep = \"\")\n",
    "\n",
    "furls[1:2]"
   ]
  },
  {
   "cell_type": "code",
   "execution_count": 122,
   "metadata": {},
   "outputs": [],
   "source": [
    "extractResTable =\n",
    "  #\n",
    "  # Retrieve data from web site, \n",
    "  # find the preformatted text,\n",
    "  # and write lines or return as a character vector.\n",
    "  #\n",
    "  function(url = \"http://www.cherryblossom.org/results/2009/09cucb-F.htm\",\n",
    "           year = 1999, sex = \"male\", file = NULL)\n",
    "  {\n",
    "    doc = htmlParse(url, encoding= 'UTF-8')\n",
    "\n",
    "    if (year == 2000) {\n",
    "\n",
    "      # Get preformatted text from 4th font element\n",
    "      # The top file is ill formed so the <pre> search doesn't work.\n",
    "      ff = getNodeSet(doc, \"//font\")\n",
    "      txt = xmlValue(ff[[4]])\n",
    "      els = strsplit(txt, \"\\r\\n\")[[1]]\n",
    "    }\n",
    "    else if (year == 2009 & sex == \"male\") {\n",
    "      # Get preformatted text from <div class=\"Section1\"> element\n",
    "      # Each line of results is in a <pre> element\n",
    "      div1 = getNodeSet(doc, \"//div[@class='Section1']\")\n",
    "      pres = getNodeSet(div1[[1]], \"//pre\")\n",
    "      els = sapply(pres, xmlValue)\n",
    "    }         \n",
    "    else if (year == 1999 & sex == \"male\") {\n",
    "      # Get preformatted text from <pre> elements\n",
    "      pres = getNodeSet(doc, \"//pre\")\n",
    "      txt = xmlValue(pres[[1]])\n",
    "      els = strsplit(txt, \"\\n\")[[1]]   \n",
    "    } \n",
    "  \n",
    "    \n",
    "    else {\n",
    "      # Get preformatted text from <pre> elements\n",
    "      pres = getNodeSet(doc, \"//pre\")\n",
    "      txt = xmlValue(pres[[1]])\n",
    "      els = strsplit(txt, \"\\r\\n\")[[1]]   \n",
    "    } \n",
    "    \n",
    "    if (is.null(file)) return(els)\n",
    "    # Write the lines as a text file.\n",
    "    writeLines(els, con = file)\n",
    "  }\n",
    "\n"
   ]
  },
  {
   "cell_type": "code",
   "execution_count": 123,
   "metadata": {},
   "outputs": [
    {
     "data": {
      "text/html": [
       "<dl class=dl-horizontal>\n",
       "\t<dt>1999</dt>\n",
       "\t\t<dd>3193</dd>\n",
       "\t<dt>2012</dt>\n",
       "\t\t<dd>7201</dd>\n",
       "</dl>\n"
      ],
      "text/latex": [
       "\\begin{description*}\n",
       "\\item[1999] 3193\n",
       "\\item[2012] 7201\n",
       "\\end{description*}\n"
      ],
      "text/markdown": [
       "1999\n",
       ":   31932012\n",
       ":   7201\n",
       "\n"
      ],
      "text/plain": [
       "1999 2012 \n",
       "3193 7201 "
      ]
     },
     "metadata": {},
     "output_type": "display_data"
    }
   ],
   "source": [
    "menTables = mapply(extractResTable, url = urls, year = years)\n",
    "names(menTables) = years\n",
    "sapply(menTables, length)\n",
    "\n"
   ]
  },
  {
   "cell_type": "code",
   "execution_count": 137,
   "metadata": {},
   "outputs": [
    {
     "data": {
      "text/html": [
       "<dl class=dl-horizontal>\n",
       "\t<dt>1999</dt>\n",
       "\t\t<dd>3193</dd>\n",
       "\t<dt>2012</dt>\n",
       "\t\t<dd>7201</dd>\n",
       "</dl>\n"
      ],
      "text/latex": [
       "\\begin{description*}\n",
       "\\item[1999] 3193\n",
       "\\item[2012] 7201\n",
       "\\end{description*}\n"
      ],
      "text/markdown": [
       "1999\n",
       ":   31932012\n",
       ":   7201\n",
       "\n"
      ],
      "text/plain": [
       "1999 2012 \n",
       "3193 7201 "
      ]
     },
     "metadata": {},
     "output_type": "display_data"
    }
   ],
   "source": [
    "womenTables = mapply(extractResTable, url = furls, year = years)\n",
    "names(menTables) = years\n",
    "sapply(menTables, length)\n",
    "\n"
   ]
  },
  {
   "cell_type": "code",
   "execution_count": 125,
   "metadata": {},
   "outputs": [
    {
     "data": {
      "text/html": [
       "<ol class=list-inline>\n",
       "\t<li>''</li>\n",
       "\t<li><span style=white-space:pre-wrap>'                 Credit Union Cherry Blossom Ten Mile Run'</span></li>\n",
       "\t<li><span style=white-space:pre-wrap>'                 Washington, DC     Sunday, April 1, 2012'</span></li>\n",
       "\t<li>''</li>\n",
       "\t<li><span style=white-space:pre-wrap>'                Official Male Results (Sorted By Net Time)'</span></li>\n",
       "\t<li>''</li>\n",
       "\t<li><span style=white-space:pre-wrap>'Place Div  /Tot   Num    Name                   Ag Hometown             5 Mile  Time    Pace  '</span></li>\n",
       "\t<li>'===== =========== ====== ====================== == ==================== ======= ======= ===== '</li>\n",
       "\t<li><span style=white-space:pre-wrap>'    1     1/347        9 Allan Kiprono          22 Kenya                  22:32   45:15  4:32 '</span></li>\n",
       "\t<li><span style=white-space:pre-wrap>'    2     2/347       11 Lani Kiplagat          23 Kenya                  22:38   46:28  4:39 '</span></li>\n",
       "</ol>\n"
      ],
      "text/latex": [
       "\\begin{enumerate*}\n",
       "\\item ''\n",
       "\\item '                 Credit Union Cherry Blossom Ten Mile Run'\n",
       "\\item '                 Washington, DC     Sunday, April 1, 2012'\n",
       "\\item ''\n",
       "\\item '                Official Male Results (Sorted By Net Time)'\n",
       "\\item ''\n",
       "\\item 'Place Div  /Tot   Num    Name                   Ag Hometown             5 Mile  Time    Pace  '\n",
       "\\item '===== =========== ====== ====================== == ==================== ======= ======= ===== '\n",
       "\\item '    1     1/347        9 Allan Kiprono          22 Kenya                  22:32   45:15  4:32 '\n",
       "\\item '    2     2/347       11 Lani Kiplagat          23 Kenya                  22:38   46:28  4:39 '\n",
       "\\end{enumerate*}\n"
      ],
      "text/markdown": [
       "1. ''\n",
       "2. <span style=white-space:pre-wrap>'                 Credit Union Cherry Blossom Ten Mile Run'</span>\n",
       "3. <span style=white-space:pre-wrap>'                 Washington, DC     Sunday, April 1, 2012'</span>\n",
       "4. ''\n",
       "5. <span style=white-space:pre-wrap>'                Official Male Results (Sorted By Net Time)'</span>\n",
       "6. ''\n",
       "7. <span style=white-space:pre-wrap>'Place Div  /Tot   Num    Name                   Ag Hometown             5 Mile  Time    Pace  '</span>\n",
       "8. '===== =========== ====== ====================== == ==================== ======= ======= ===== '\n",
       "9. <span style=white-space:pre-wrap>'    1     1/347        9 Allan Kiprono          22 Kenya                  22:32   45:15  4:32 '</span>\n",
       "10. <span style=white-space:pre-wrap>'    2     2/347       11 Lani Kiplagat          23 Kenya                  22:38   46:28  4:39 '</span>\n",
       "\n",
       "\n"
      ],
      "text/plain": [
       " [1] \"\"                                                                                              \n",
       " [2] \"                 Credit Union Cherry Blossom Ten Mile Run\"                                     \n",
       " [3] \"                 Washington, DC     Sunday, April 1, 2012\"                                     \n",
       " [4] \"\"                                                                                              \n",
       " [5] \"                Official Male Results (Sorted By Net Time)\"                                    \n",
       " [6] \"\"                                                                                              \n",
       " [7] \"Place Div  /Tot   Num    Name                   Ag Hometown             5 Mile  Time    Pace  \"\n",
       " [8] \"===== =========== ====== ====================== == ==================== ======= ======= ===== \"\n",
       " [9] \"    1     1/347        9 Allan Kiprono          22 Kenya                  22:32   45:15  4:32 \"\n",
       "[10] \"    2     2/347       11 Lani Kiplagat          23 Kenya                  22:38   46:28  4:39 \""
      ]
     },
     "metadata": {},
     "output_type": "display_data"
    }
   ],
   "source": [
    "#m2012 = read.table(file=\"MenTxt/2012.txt\", skip = 8)\n",
    "m2012 = menTables$'2012'[-1:-8]\n",
    "\n",
    "#els = readLines(\"MenTxt/2012.txt\")\n",
    "els = menTables$'2012'\n",
    "\n",
    "els[1:10]\n",
    "\n"
   ]
  },
  {
   "cell_type": "code",
   "execution_count": 126,
   "metadata": {},
   "outputs": [
    {
     "data": {
      "text/html": [
       "8"
      ],
      "text/latex": [
       "8"
      ],
      "text/markdown": [
       "8"
      ],
      "text/plain": [
       "[1] 8"
      ]
     },
     "metadata": {},
     "output_type": "display_data"
    },
    {
     "data": {
      "text/html": [
       "8"
      ],
      "text/latex": [
       "8"
      ],
      "text/markdown": [
       "8"
      ],
      "text/plain": [
       "[1] 8"
      ]
     },
     "metadata": {},
     "output_type": "display_data"
    },
    {
     "data": {
      "text/html": [
       "49"
      ],
      "text/latex": [
       "49"
      ],
      "text/markdown": [
       "49"
      ],
      "text/plain": [
       "[1] 49\n",
       "attr(,\"match.length\")\n",
       "[1] 2\n",
       "attr(,\"index.type\")\n",
       "[1] \"chars\"\n",
       "attr(,\"useBytes\")\n",
       "[1] TRUE"
      ]
     },
     "metadata": {},
     "output_type": "display_data"
    },
    {
     "data": {
      "text/html": [
       "<ol class=list-inline>\n",
       "\t<li>'22'</li>\n",
       "\t<li>'23'</li>\n",
       "\t<li>'36'</li>\n",
       "\t<li>'27'</li>\n",
       "\t<li>'24'</li>\n",
       "\t<li>'31'</li>\n",
       "</ol>\n"
      ],
      "text/latex": [
       "\\begin{enumerate*}\n",
       "\\item '22'\n",
       "\\item '23'\n",
       "\\item '36'\n",
       "\\item '27'\n",
       "\\item '24'\n",
       "\\item '31'\n",
       "\\end{enumerate*}\n"
      ],
      "text/markdown": [
       "1. '22'\n",
       "2. '23'\n",
       "3. '36'\n",
       "4. '27'\n",
       "5. '24'\n",
       "6. '31'\n",
       "\n",
       "\n"
      ],
      "text/plain": [
       "[1] \"22\" \"23\" \"36\" \"27\" \"24\" \"31\""
      ]
     },
     "metadata": {},
     "output_type": "display_data"
    },
    {
     "data": {
      "text/plain": [
       "   Min. 1st Qu.  Median    Mean 3rd Qu.    Max.    NA's \n",
       "   9.00   29.00   35.00   37.75   45.00   89.00       1 "
      ]
     },
     "metadata": {},
     "output_type": "display_data"
    },
    {
     "data": {
      "text/html": [
       "<ol>\n",
       "\t<li><ol class=list-inline>\n",
       "\t<li>6</li>\n",
       "\t<li>18</li>\n",
       "\t<li>25</li>\n",
       "\t<li>48</li>\n",
       "\t<li>51</li>\n",
       "\t<li>72</li>\n",
       "\t<li>80</li>\n",
       "\t<li>88</li>\n",
       "\t<li>94</li>\n",
       "</ol>\n",
       "</li>\n",
       "</ol>\n"
      ],
      "text/latex": [
       "\\begin{enumerate}\n",
       "\\item \\begin{enumerate*}\n",
       "\\item 6\n",
       "\\item 18\n",
       "\\item 25\n",
       "\\item 48\n",
       "\\item 51\n",
       "\\item 72\n",
       "\\item 80\n",
       "\\item 88\n",
       "\\item 94\n",
       "\\end{enumerate*}\n",
       "\n",
       "\\end{enumerate}\n"
      ],
      "text/markdown": [
       "1. 1. 6\n",
       "2. 18\n",
       "3. 25\n",
       "4. 48\n",
       "5. 51\n",
       "6. 72\n",
       "7. 80\n",
       "8. 88\n",
       "9. 94\n",
       "\n",
       "\n",
       "\n",
       "\n",
       "\n"
      ],
      "text/plain": [
       "[[1]]\n",
       "[1]  6 18 25 48 51 72 80 88 94\n",
       "attr(,\"match.length\")\n",
       "[1] 1 1 1 1 1 1 1 1 1\n",
       "attr(,\"index.type\")\n",
       "[1] \"chars\"\n",
       "attr(,\"useBytes\")\n",
       "[1] TRUE\n"
      ]
     },
     "metadata": {},
     "output_type": "display_data"
    }
   ],
   "source": [
    "eqIndex = grep(\"^===\", els)\n",
    "eqIndex\n",
    "\n",
    "first3 = substr(els, 1, 3)\n",
    "which(first3 == \"===\")\n",
    "\n",
    "spacerRow = els[eqIndex]\n",
    "headerRow = els[eqIndex - 1]\n",
    "body = els[ -(1:eqIndex) ]\n",
    "\n",
    "headerRow = tolower(headerRow)\n",
    "\n",
    "ageStart = regexpr(\"ag\", headerRow)\n",
    "ageStart\n",
    "\n",
    "age = substr(body, start = ageStart, stop = ageStart + 1)\n",
    "head(age)\n",
    "\n",
    "summary(as.numeric(age))\n",
    "\n",
    "blankLocs = gregexpr(\" \", spacerRow)\n",
    "blankLocs\n",
    "\n",
    "searchLocs = c(0, blankLocs[[1]])\n",
    "\n",
    "Values = mapply(substr, list(body), \n",
    "                start = searchLocs[ -length(searchLocs)] + 1, \n",
    "                stop = searchLocs[ -1 ] - 1)"
   ]
  },
  {
   "cell_type": "code",
   "execution_count": 127,
   "metadata": {},
   "outputs": [
    {
     "data": {
      "text/plain": [
       "   Min. 1st Qu.  Median    Mean 3rd Qu.    Max.    NA's \n",
       "   9.00   29.00   35.00   37.75   45.00   89.00       1 "
      ]
     },
     "metadata": {},
     "output_type": "display_data"
    }
   ],
   "source": [
    "findColLocs = function(spacerRow) {\n",
    "\n",
    "  spaceLocs = gregexpr(\" \", spacerRow)[[1]]\n",
    "  rowLength = nchar(spacerRow)\n",
    "\n",
    "  if (substring(spacerRow, rowLength, rowLength) != \" \")\n",
    "    return( c(0, spaceLocs, rowLength + 1))\n",
    "  else return(c(0, spaceLocs))\n",
    "}\n",
    "\n",
    "selectCols = \n",
    "function(colNames, headerRow, searchLocs) \n",
    "{\n",
    "  sapply(colNames, \n",
    "         function(name, headerRow, searchLocs)\n",
    "         {\n",
    "           startPos = regexpr(name, headerRow)[[1]]\n",
    "           if (startPos == -1) \n",
    "             return( c(NA, NA) )\n",
    "    \n",
    "           index = sum(startPos >= searchLocs)\n",
    "           c(searchLocs[index] + 1, searchLocs[index + 1] - 1)\n",
    "         },\n",
    "         headerRow = headerRow, searchLocs = searchLocs )\n",
    "}\n",
    "\n",
    "searchLocs = findColLocs(spacerRow)\n",
    "ageLoc = selectCols(\"ag\", headerRow, searchLocs) \n",
    "ages = mapply(substr, list(body), \n",
    "              start = ageLoc[1,], stop = ageLoc[2, ])\n",
    "\n",
    "summary(as.numeric(ages))\n",
    "\n",
    "shortColNames = c(\"name\", \"home\", \"ag\", \"gun\", \"net\", \"time\")\n",
    "\n",
    "locCols = selectCols(shortColNames, headerRow, searchLocs)\n",
    "\n",
    "Values = mapply(substr, list(body), start = locCols[1, ], \n",
    "                stop = locCols[2, ])"
   ]
  },
  {
   "cell_type": "code",
   "execution_count": 128,
   "metadata": {},
   "outputs": [
    {
     "data": {
      "text/html": [
       "'matrix'"
      ],
      "text/latex": [
       "'matrix'"
      ],
      "text/markdown": [
       "'matrix'"
      ],
      "text/plain": [
       "[1] \"matrix\""
      ]
     },
     "metadata": {},
     "output_type": "display_data"
    },
    {
     "data": {
      "text/html": [
       "<table>\n",
       "<thead><tr><th scope=col>name</th><th scope=col>home</th><th scope=col>ag</th><th scope=col>gun</th><th scope=col>net</th><th scope=col>time</th></tr></thead>\n",
       "<tbody>\n",
       "\t<tr><td>Allan Kiprono         </td><td>Kenya                 </td><td>22                    </td><td>NA                    </td><td>NA                    </td><td>  45:15               </td></tr>\n",
       "\t<tr><td>Lani Kiplagat         </td><td>Kenya                 </td><td>23                    </td><td>NA                    </td><td>NA                    </td><td>  46:28               </td></tr>\n",
       "\t<tr><td>John Korir            </td><td>Kenya                 </td><td>36                    </td><td>NA                    </td><td>NA                    </td><td>  47:33               </td></tr>\n",
       "\t<tr><td>Ian Burrell           </td><td>Tucson AZ             </td><td>27                    </td><td>NA                    </td><td>NA                    </td><td>  47:34               </td></tr>\n",
       "\t<tr><td>Jesse Cherry          </td><td>Blowing Rock NC       </td><td>24                    </td><td>NA                    </td><td>NA                    </td><td>  47:40               </td></tr>\n",
       "\t<tr><td>Ketema Nugusse        </td><td>Ethiopia              </td><td>31                    </td><td>NA                    </td><td>NA                    </td><td>  47:50               </td></tr>\n",
       "</tbody>\n",
       "</table>\n"
      ],
      "text/latex": [
       "\\begin{tabular}{llllll}\n",
       " name & home & ag & gun & net & time\\\\\n",
       "\\hline\n",
       "\t Allan Kiprono          & Kenya                  & 22                     & NA                     & NA                     &   45:15               \\\\\n",
       "\t Lani Kiplagat          & Kenya                  & 23                     & NA                     & NA                     &   46:28               \\\\\n",
       "\t John Korir             & Kenya                  & 36                     & NA                     & NA                     &   47:33               \\\\\n",
       "\t Ian Burrell            & Tucson AZ              & 27                     & NA                     & NA                     &   47:34               \\\\\n",
       "\t Jesse Cherry           & Blowing Rock NC        & 24                     & NA                     & NA                     &   47:40               \\\\\n",
       "\t Ketema Nugusse         & Ethiopia               & 31                     & NA                     & NA                     &   47:50               \\\\\n",
       "\\end{tabular}\n"
      ],
      "text/markdown": [
       "\n",
       "name | home | ag | gun | net | time | \n",
       "|---|---|---|---|---|---|\n",
       "| Allan Kiprono          | Kenya                  | 22                     | NA                     | NA                     |   45:15                | \n",
       "| Lani Kiplagat          | Kenya                  | 23                     | NA                     | NA                     |   46:28                | \n",
       "| John Korir             | Kenya                  | 36                     | NA                     | NA                     |   47:33                | \n",
       "| Ian Burrell            | Tucson AZ              | 27                     | NA                     | NA                     |   47:34                | \n",
       "| Jesse Cherry           | Blowing Rock NC        | 24                     | NA                     | NA                     |   47:40                | \n",
       "| Ketema Nugusse         | Ethiopia               | 31                     | NA                     | NA                     |   47:50                | \n",
       "\n",
       "\n"
      ],
      "text/plain": [
       "     name                   home                 ag gun net time   \n",
       "[1,] Allan Kiprono          Kenya                22 NA  NA    45:15\n",
       "[2,] Lani Kiplagat          Kenya                23 NA  NA    46:28\n",
       "[3,] John Korir             Kenya                36 NA  NA    47:33\n",
       "[4,] Ian Burrell            Tucson AZ            27 NA  NA    47:34\n",
       "[5,] Jesse Cherry           Blowing Rock NC      24 NA  NA    47:40\n",
       "[6,] Ketema Nugusse         Ethiopia             31 NA  NA    47:50"
      ]
     },
     "metadata": {},
     "output_type": "display_data"
    },
    {
     "data": {
      "text/html": [
       "<table>\n",
       "<thead><tr><th></th><th scope=col>name</th><th scope=col>home</th><th scope=col>ag</th></tr></thead>\n",
       "<tbody>\n",
       "\t<tr><th scope=row>[7188,]</th><td>Dana Brown            </td><td>Randallstown MD       </td><td>41                    </td></tr>\n",
       "\t<tr><th scope=row>[7189,]</th><td>Jurek Grabowski       </td><td>Fairfax VA            </td><td>39                    </td></tr>\n",
       "\t<tr><th scope=row>[7190,]</th><td>Larry Hume            </td><td>Arlington VA          </td><td>56                    </td></tr>\n",
       "\t<tr><th scope=row>[7191,]</th><td>Sean-Patrick Alexander</td><td>Alexandria VA         </td><td>35                    </td></tr>\n",
       "\t<tr><th scope=row>[7192,]</th><td>Joseph White          </td><td>Forestville MD        </td><td>                      </td></tr>\n",
       "\t<tr><th scope=row>[7193,]</th><td>Lee Jordan            </td><td>Herndon VA            </td><td>48                    </td></tr>\n",
       "</tbody>\n",
       "</table>\n"
      ],
      "text/latex": [
       "\\begin{tabular}{r|lll}\n",
       "  & name & home & ag\\\\\n",
       "\\hline\n",
       "\t{[}7188,{]} & Dana Brown             & Randallstown MD        & 41                    \\\\\n",
       "\t{[}7189,{]} & Jurek Grabowski        & Fairfax VA             & 39                    \\\\\n",
       "\t{[}7190,{]} & Larry Hume             & Arlington VA           & 56                    \\\\\n",
       "\t{[}7191,{]} & Sean-Patrick Alexander & Alexandria VA          & 35                    \\\\\n",
       "\t{[}7192,{]} & Joseph White           & Forestville MD         &                       \\\\\n",
       "\t{[}7193,{]} & Lee Jordan             & Herndon VA             & 48                    \\\\\n",
       "\\end{tabular}\n"
      ],
      "text/markdown": [
       "\n",
       "| <!--/--> | name | home | ag | \n",
       "|---|---|---|---|---|---|\n",
       "| [7188,] | Dana Brown             | Randallstown MD        | 41                     | \n",
       "| [7189,] | Jurek Grabowski        | Fairfax VA             | 39                     | \n",
       "| [7190,] | Larry Hume             | Arlington VA           | 56                     | \n",
       "| [7191,] | Sean-Patrick Alexander | Alexandria VA          | 35                     | \n",
       "| [7192,] | Joseph White           | Forestville MD         |                        | \n",
       "| [7193,] | Lee Jordan             | Herndon VA             | 48                     | \n",
       "\n",
       "\n"
      ],
      "text/plain": [
       "        name                   home                 ag\n",
       "[7188,] Dana Brown             Randallstown MD      41\n",
       "[7189,] Jurek Grabowski        Fairfax VA           39\n",
       "[7190,] Larry Hume             Arlington VA         56\n",
       "[7191,] Sean-Patrick Alexander Alexandria VA        35\n",
       "[7192,] Joseph White           Forestville MD         \n",
       "[7193,] Lee Jordan             Herndon VA           48"
      ]
     },
     "metadata": {},
     "output_type": "display_data"
    }
   ],
   "source": [
    "class(Values)\n",
    "\n",
    "colnames(Values) = shortColNames\n",
    "head(Values)\n",
    "\n",
    "tail(Values)[ , 1:3]\n",
    "\n",
    "extractVariables = \n",
    "  function(file, varNames =c(\"name\", \"home\", \"ag\", \"gun\",\n",
    "                             \"net\", \"time\"))\n",
    "{\n",
    "       # Find the index of the row with =s\n",
    "  eqIndex = grep(\"^===\", file)\n",
    "       # Extract the two key rows and the data\n",
    "  spacerRow = file[eqIndex] \n",
    "  headerRow = tolower(file[ eqIndex - 1 ])\n",
    "  body = file[ -(1 : eqIndex) ]\n",
    "       \n",
    "       # Obtain the starting and ending positions of variables\n",
    "  searchLocs = findColLocs(spacerRow)\n",
    "  locCols = selectCols(varNames, headerRow, searchLocs)\n",
    "\n",
    "  Values = mapply(substr, list(body), start = locCols[1, ], \n",
    "                  stop = locCols[2, ])\n",
    "  colnames(Values) = varNames\n",
    "  \n",
    "  invisible(Values)\n",
    "}\n",
    "\n"
   ]
  },
  {
   "cell_type": "code",
   "execution_count": 140,
   "metadata": {},
   "outputs": [],
   "source": [
    "names(womenTables) = years"
   ]
  },
  {
   "cell_type": "code",
   "execution_count": 138,
   "metadata": {},
   "outputs": [],
   "source": [
    "mfilenames = paste(\"data/MenTxt/\", years, \".txt\", sep = \"\")\n",
    "write(menTables$'1999',mfilenames[1])\n",
    "write(menTables$'2012',mfilenames[2])\n"
   ]
  },
  {
   "cell_type": "code",
   "execution_count": 130,
   "metadata": {},
   "outputs": [
    {
     "data": {
      "text/html": [
       "2"
      ],
      "text/latex": [
       "2"
      ],
      "text/markdown": [
       "2"
      ],
      "text/plain": [
       "[1] 2"
      ]
     },
     "metadata": {},
     "output_type": "display_data"
    },
    {
     "data": {
      "text/html": [
       "<dl class=dl-horizontal>\n",
       "\t<dt>1999</dt>\n",
       "\t\t<dd>3190</dd>\n",
       "\t<dt>2012</dt>\n",
       "\t\t<dd>7193</dd>\n",
       "</dl>\n"
      ],
      "text/latex": [
       "\\begin{description*}\n",
       "\\item[1999] 3190\n",
       "\\item[2012] 7193\n",
       "\\end{description*}\n"
      ],
      "text/markdown": [
       "1999\n",
       ":   31902012\n",
       ":   7193\n",
       "\n"
      ],
      "text/plain": [
       "1999 2012 \n",
       "3190 7193 "
      ]
     },
     "metadata": {},
     "output_type": "display_data"
    },
    {
     "data": {
      "text/html": [
       "<ol class=list-inline>\n",
       "\t<li>41</li>\n",
       "\t<li>39</li>\n",
       "\t<li>56</li>\n",
       "\t<li>35</li>\n",
       "\t<li>&lt;NA&gt;</li>\n",
       "\t<li>48</li>\n",
       "</ol>\n"
      ],
      "text/latex": [
       "\\begin{enumerate*}\n",
       "\\item 41\n",
       "\\item 39\n",
       "\\item 56\n",
       "\\item 35\n",
       "\\item <NA>\n",
       "\\item 48\n",
       "\\end{enumerate*}\n"
      ],
      "text/markdown": [
       "1. 41\n",
       "2. 39\n",
       "3. 56\n",
       "4. 35\n",
       "5. &lt;NA&gt;\n",
       "6. 48\n",
       "\n",
       "\n"
      ],
      "text/plain": [
       "[1] 41 39 56 35 NA 48"
      ]
     },
     "metadata": {},
     "output_type": "display_data"
    }
   ],
   "source": [
    "mfilenames = paste(\"data/MenTxt/\", readYears, \".txt\", sep = \"\")\n",
    "menFiles = lapply(mfilenames, readLines)\n",
    "names(menFiles) = readYears\n",
    "\n",
    "menResMat = lapply(menFiles, extractVariables)\n",
    "length(menResMat)\n",
    "\n",
    "sapply(menResMat, nrow)\n",
    "\n",
    "age = sapply(menResMat,\n",
    "             function(x) as.numeric(x[ , 'ag']))"
   ]
  },
  {
   "cell_type": "code",
   "execution_count": 141,
   "metadata": {},
   "outputs": [],
   "source": [
    "wfilenames = paste(\"data/WomenTxt/\", years, \".txt\", sep = \"\")\n",
    "write(womenTables$'1999',wfilenames[1])\n",
    "write(womenTables$'2012',wfilenames[2])"
   ]
  },
  {
   "cell_type": "code",
   "execution_count": 144,
   "metadata": {},
   "outputs": [
    {
     "data": {
      "text/html": [
       "2"
      ],
      "text/latex": [
       "2"
      ],
      "text/markdown": [
       "2"
      ],
      "text/plain": [
       "[1] 2"
      ]
     },
     "metadata": {},
     "output_type": "display_data"
    },
    {
     "data": {
      "text/html": [
       "<dl class=dl-horizontal>\n",
       "\t<dt>1999</dt>\n",
       "\t\t<dd>3190</dd>\n",
       "\t<dt>2012</dt>\n",
       "\t\t<dd>7193</dd>\n",
       "</dl>\n"
      ],
      "text/latex": [
       "\\begin{description*}\n",
       "\\item[1999] 3190\n",
       "\\item[2012] 7193\n",
       "\\end{description*}\n"
      ],
      "text/markdown": [
       "1999\n",
       ":   31902012\n",
       ":   7193\n",
       "\n"
      ],
      "text/plain": [
       "1999 2012 \n",
       "3190 7193 "
      ]
     },
     "metadata": {},
     "output_type": "display_data"
    }
   ],
   "source": [
    "wfilenames = paste(\"data/WomenTxt/\", readYears, \".txt\", sep = \"\")\n",
    "womenFiles = lapply(mfilenames, readLines)\n",
    "names(womenFiles) = years\n",
    "\n",
    "womenResMat = lapply(womenFiles, extractVariables)\n",
    "length(womenResMat)\n",
    "\n",
    "sapply(womenResMat, nrow)\n",
    "\n",
    "\n",
    "age = sapply(womenResMat,\n",
    "             function(x) as.numeric(x[ , 'ag']))"
   ]
  },
  {
   "cell_type": "code",
   "execution_count": 167,
   "metadata": {},
   "outputs": [],
   "source": [
    "shortColNames = c(\"name\", \"home\", \"ag\", \"gun\", \"net\", \"time\",\"sex\",\"year\")"
   ]
  },
  {
   "cell_type": "code",
   "execution_count": 168,
   "metadata": {},
   "outputs": [],
   "source": [
    "w99 = womenResMat['1999']\n",
    "w99 = as.data.frame(w99)\n",
    "w99['sex']= 'female'\n",
    "w99['year']= '1999'\n",
    "\n",
    "names(w99)= shortColNames\n",
    "\n",
    "w12 = womenResMat['2012']\n",
    "w12 = as.data.frame(w12)\n",
    "w12['sex']= 'female'\n",
    "w12['year']= '2012'\n",
    "names(w12)= shortColNames\n",
    "\n",
    "\n",
    "m99 = menResMat['1999']\n",
    "m99 = as.data.frame(m99)\n",
    "m99['sex']= 'male'\n",
    "m99['year']= '1999'\n",
    "names(m99)= shortColNames\n",
    "\n",
    "\n",
    "m12 = menResMat['1999']\n",
    "m12 = as.data.frame(m12)\n",
    "m12['sex']= 'male'\n",
    "m12['year']= '2012'\n",
    "names(m12)= shortColNames\n",
    "\n",
    "\n",
    "\n"
   ]
  },
  {
   "cell_type": "code",
   "execution_count": 171,
   "metadata": {},
   "outputs": [],
   "source": [
    "raceDf = rbind(w99,w12,m99,w12)"
   ]
  },
  {
   "cell_type": "code",
   "execution_count": 172,
   "metadata": {},
   "outputs": [
    {
     "data": {
      "text/html": [
       "<table>\n",
       "<thead><tr><th scope=col>name</th><th scope=col>home</th><th scope=col>ag</th><th scope=col>gun</th><th scope=col>net</th><th scope=col>time</th><th scope=col>sex</th><th scope=col>year</th></tr></thead>\n",
       "<tbody>\n",
       "\t<tr><td>Worku Bikila         </td><td>Ethiopia             </td><td>28                   </td><td>NA                   </td><td>NA                   </td><td>  46:59              </td><td>female               </td><td>1999                 </td></tr>\n",
       "\t<tr><td>Lazarus Nyakeraka    </td><td>Kenya                </td><td>24                   </td><td>NA                   </td><td>NA                   </td><td>  47:01              </td><td>female               </td><td>1999                 </td></tr>\n",
       "\t<tr><td>James Kariuki        </td><td>Kenya                </td><td>27                   </td><td>NA                   </td><td>NA                   </td><td>  47:03              </td><td>female               </td><td>1999                 </td></tr>\n",
       "\t<tr><td>William Kiptum       </td><td>Kenya                </td><td>28                   </td><td>NA                   </td><td>NA                   </td><td>  47:07              </td><td>female               </td><td>1999                 </td></tr>\n",
       "\t<tr><td>Joseph Kimani        </td><td>Kenya                </td><td>26                   </td><td>NA                   </td><td>NA                   </td><td>  47:31              </td><td>female               </td><td>1999                 </td></tr>\n",
       "\t<tr><td>Josphat Machuka      </td><td>Kenya                </td><td>25                   </td><td>NA                   </td><td>NA                   </td><td>  47:33              </td><td>female               </td><td>1999                 </td></tr>\n",
       "\t<tr><td>Julius Randich       </td><td>Kenya                </td><td>26                   </td><td>NA                   </td><td>NA                   </td><td>  47:37              </td><td>female               </td><td>1999                 </td></tr>\n",
       "\t<tr><td>Leonid Shvetsov      </td><td>Russia               </td><td>30                   </td><td>NA                   </td><td>NA                   </td><td>  49:10              </td><td>female               </td><td>1999                 </td></tr>\n",
       "\t<tr><td>Reuben Chesang       </td><td>Kenya                </td><td>38                   </td><td>NA                   </td><td>NA                   </td><td>  49:22              </td><td>female               </td><td>1999                 </td></tr>\n",
       "\t<tr><td>Daniel Kihara        </td><td>Kenya                </td><td>30                   </td><td>NA                   </td><td>NA                   </td><td>  49:23              </td><td>female               </td><td>1999                 </td></tr>\n",
       "\t<tr><td>Kibet Cherop         </td><td>Kenya                </td><td>24                   </td><td>NA                   </td><td>NA                   </td><td>  49:26              </td><td>female               </td><td>1999                 </td></tr>\n",
       "\t<tr><td>Ben Kimondieu        </td><td>Kenya                </td><td>21                   </td><td>NA                   </td><td>NA                   </td><td>  49:37              </td><td>female               </td><td>1999                 </td></tr>\n",
       "\t<tr><td>Jacob Kirua          </td><td>Kenya                </td><td>23                   </td><td>NA                   </td><td>NA                   </td><td>  50:05              </td><td>female               </td><td>1999                 </td></tr>\n",
       "\t<tr><td>Simon Cherogony      </td><td>Kenya                </td><td>27                   </td><td>NA                   </td><td>NA                   </td><td>  50:17              </td><td>female               </td><td>1999                 </td></tr>\n",
       "\t<tr><td>Eric Morrison        </td><td>Lakewood CO          </td><td>28                   </td><td>NA                   </td><td>NA                   </td><td>  50:35              </td><td>female               </td><td>1999                 </td></tr>\n",
       "\t<tr><td>Mark Gilmore         </td><td>Columbia MD          </td><td>31                   </td><td>NA                   </td><td>NA                   </td><td>  50:40              </td><td>female               </td><td>1999                 </td></tr>\n",
       "\t<tr><td>Phillippe Rolly      </td><td>France               </td><td>26                   </td><td>NA                   </td><td>NA                   </td><td>  51:00              </td><td>female               </td><td>1999                 </td></tr>\n",
       "\t<tr><td>Jason Bodnar         </td><td>Davie FL             </td><td>28                   </td><td>NA                   </td><td>NA                   </td><td>  51:15              </td><td>female               </td><td>1999                 </td></tr>\n",
       "\t<tr><td>Bernard Kitur        </td><td>Aurora CO            </td><td>27                   </td><td>NA                   </td><td>NA                   </td><td>  51:17              </td><td>female               </td><td>1999                 </td></tr>\n",
       "\t<tr><td>Todd Reeser          </td><td>Canandaigua NY       </td><td>25                   </td><td>NA                   </td><td>NA                   </td><td>  51:42              </td><td>female               </td><td>1999                 </td></tr>\n",
       "\t<tr><td>Chris Chattin        </td><td>Columbia MD          </td><td>35                   </td><td>NA                   </td><td>NA                   </td><td>  52:22              </td><td>female               </td><td>1999                 </td></tr>\n",
       "\t<tr><td>Andrew Klemas        </td><td>Falls Church VA      </td><td>35                   </td><td>NA                   </td><td>NA                   </td><td>  52:25              </td><td>female               </td><td>1999                 </td></tr>\n",
       "\t<tr><td>Gerry Clapper        </td><td>Columbia MD          </td><td>37                   </td><td>NA                   </td><td>NA                   </td><td>  52:27              </td><td>female               </td><td>1999                 </td></tr>\n",
       "\t<tr><td>Dave Berardi         </td><td>Baltimore MD         </td><td>38                   </td><td>NA                   </td><td>NA                   </td><td>  52:29              </td><td>female               </td><td>1999                 </td></tr>\n",
       "\t<tr><td>Gary O'donnell       </td><td>Arlington VA         </td><td>26                   </td><td>NA                   </td><td>NA                   </td><td>  52:32              </td><td>female               </td><td>1999                 </td></tr>\n",
       "\t<tr><td>Rob Magin            </td><td>Gaithersburg MD      </td><td>28                   </td><td>NA                   </td><td>NA                   </td><td>  52:40              </td><td>female               </td><td>1999                 </td></tr>\n",
       "\t<tr><td>Luis Del Aguila      </td><td>State College PA     </td><td>29                   </td><td>NA                   </td><td>NA                   </td><td>  52:57              </td><td>female               </td><td>1999                 </td></tr>\n",
       "\t<tr><td>Robert Walker        </td><td>Silver Spring MD     </td><td>31                   </td><td>NA                   </td><td>NA                   </td><td>  53:24              </td><td>female               </td><td>1999                 </td></tr>\n",
       "\t<tr><td>Bill Rodgers         </td><td>Sherborn MA          </td><td>51                   </td><td>NA                   </td><td>NA                   </td><td>  54:03              </td><td>female               </td><td>1999                 </td></tr>\n",
       "\t<tr><td>Mark Hoon            </td><td>Kensington MD        </td><td>34                   </td><td>NA                   </td><td>NA                   </td><td>  54:13              </td><td>female               </td><td>1999                 </td></tr>\n",
       "\t<tr><td>⋮</td><td>⋮</td><td>⋮</td><td>⋮</td><td>⋮</td><td>⋮</td><td>⋮</td><td>⋮</td></tr>\n",
       "\t<tr><td>Nick Palarino         </td><td>Bowie MD              </td><td>65                    </td><td>NA                    </td><td>NA                    </td><td>2:17:08               </td><td>female                </td><td>2012                  </td></tr>\n",
       "\t<tr><td>Ivan Billings         </td><td>Washington DC         </td><td>27                    </td><td>NA                    </td><td>NA                    </td><td>2:17:15               </td><td>female                </td><td>2012                  </td></tr>\n",
       "\t<tr><td>Joseph Aldridge       </td><td>Arlington VA          </td><td>30                    </td><td>NA                    </td><td>NA                    </td><td>2:17:25               </td><td>female                </td><td>2012                  </td></tr>\n",
       "\t<tr><td>John Childers         </td><td>Arlington VA          </td><td>30                    </td><td>NA                    </td><td>NA                    </td><td>2:17:27               </td><td>female                </td><td>2012                  </td></tr>\n",
       "\t<tr><td>Alan McLaine          </td><td>Columbia MD           </td><td>65                    </td><td>NA                    </td><td>NA                    </td><td>2:18:00               </td><td>female                </td><td>2012                  </td></tr>\n",
       "\t<tr><td>Dustin Terrill        </td><td>McLean VA             </td><td>27                    </td><td>NA                    </td><td>NA                    </td><td>2:18:14               </td><td>female                </td><td>2012                  </td></tr>\n",
       "\t<tr><td>Ralph Dixon           </td><td>Waldorf MD            </td><td>39                    </td><td>NA                    </td><td>NA                    </td><td>2:18:24               </td><td>female                </td><td>2012                  </td></tr>\n",
       "\t<tr><td>Gary Kodeck           </td><td>Owings Mills MD       </td><td>60                    </td><td>NA                    </td><td>NA                    </td><td>2:18:40               </td><td>female                </td><td>2012                  </td></tr>\n",
       "\t<tr><td>David Conover         </td><td>Silver Spring MD      </td><td>46                    </td><td>NA                    </td><td>NA                    </td><td>2:18:42               </td><td>female                </td><td>2012                  </td></tr>\n",
       "\t<tr><td>Andres Esteban-Rodrigu</td><td>Woodbridge VA         </td><td>28                    </td><td>NA                    </td><td>NA                    </td><td>2:18:53               </td><td>female                </td><td>2012                  </td></tr>\n",
       "\t<tr><td>Andrew Fitzpatrick    </td><td>Drexel Hill PA        </td><td>24                    </td><td>NA                    </td><td>NA                    </td><td>2:19:06               </td><td>female                </td><td>2012                  </td></tr>\n",
       "\t<tr><td>Hal Laurent           </td><td>Baltimore MD          </td><td>58                    </td><td>NA                    </td><td>NA                    </td><td>2:19:09               </td><td>female                </td><td>2012                  </td></tr>\n",
       "\t<tr><td>Vasilios Stayeas      </td><td>Germantown MD         </td><td>65                    </td><td>NA                    </td><td>NA                    </td><td>2:20:14               </td><td>female                </td><td>2012                  </td></tr>\n",
       "\t<tr><td>Rajesh Madireddy      </td><td>Ashburn VA            </td><td>44                    </td><td>NA                    </td><td>NA                    </td><td>2:21:23               </td><td>female                </td><td>2012                  </td></tr>\n",
       "\t<tr><td>C.J. Batten           </td><td>Centreville VA        </td><td>30                    </td><td>NA                    </td><td>NA                    </td><td>2:21:43               </td><td>female                </td><td>2012                  </td></tr>\n",
       "\t<tr><td>Earnest Lawrence      </td><td>Bowie MD              </td><td>37                    </td><td>NA                    </td><td>NA                    </td><td>2:23:02               </td><td>female                </td><td>2012                  </td></tr>\n",
       "\t<tr><td>Tate Srey             </td><td>Centreville VA        </td><td>30                    </td><td>NA                    </td><td>NA                    </td><td>2:23:17               </td><td>female                </td><td>2012                  </td></tr>\n",
       "\t<tr><td>Abraham Beltran       </td><td>Germantown MD         </td><td>59                    </td><td>NA                    </td><td>NA                    </td><td>2:23:26               </td><td>female                </td><td>2012                  </td></tr>\n",
       "\t<tr><td>William Lee           </td><td>Washington DC         </td><td>44                    </td><td>NA                    </td><td>NA                    </td><td>2:23:41               </td><td>female                </td><td>2012                  </td></tr>\n",
       "\t<tr><td>Dennis Smith          </td><td>Brambleton VA         </td><td>46                    </td><td>NA                    </td><td>NA                    </td><td>2:24:02               </td><td>female                </td><td>2012                  </td></tr>\n",
       "\t<tr><td>Santa Schreurs        </td><td>Olney MD              </td><td>63                    </td><td>NA                    </td><td>NA                    </td><td>2:24:05               </td><td>female                </td><td>2012                  </td></tr>\n",
       "\t<tr><td>Chau Nguyen           </td><td>Rockville MD          </td><td>41                    </td><td>NA                    </td><td>NA                    </td><td>2:24:48               </td><td>female                </td><td>2012                  </td></tr>\n",
       "\t<tr><td>Kerry Kilman          </td><td>Rockville MD          </td><td>64                    </td><td>NA                    </td><td>NA                    </td><td>2:25:00               </td><td>female                </td><td>2012                  </td></tr>\n",
       "\t<tr><td>Steve Scharf          </td><td>Gaithersburg MD       </td><td>66                    </td><td>NA                    </td><td>NA                    </td><td>2:25:52               </td><td>female                </td><td>2012                  </td></tr>\n",
       "\t<tr><td>Dana Brown            </td><td>Randallstown MD       </td><td>41                    </td><td>NA                    </td><td>NA                    </td><td>2:26:47               </td><td>female                </td><td>2012                  </td></tr>\n",
       "\t<tr><td>Jurek Grabowski       </td><td>Fairfax VA            </td><td>39                    </td><td>NA                    </td><td>NA                    </td><td>2:27:11               </td><td>female                </td><td>2012                  </td></tr>\n",
       "\t<tr><td>Larry Hume            </td><td>Arlington VA          </td><td>56                    </td><td>NA                    </td><td>NA                    </td><td>2:27:20               </td><td>female                </td><td>2012                  </td></tr>\n",
       "\t<tr><td>Sean-Patrick Alexander</td><td>Alexandria VA         </td><td>35                    </td><td>NA                    </td><td>NA                    </td><td>2:27:30               </td><td>female                </td><td>2012                  </td></tr>\n",
       "\t<tr><td>Joseph White          </td><td>Forestville MD        </td><td>                      </td><td>NA                    </td><td>NA                    </td><td>2:28:58               </td><td>female                </td><td>2012                  </td></tr>\n",
       "\t<tr><td>Lee Jordan            </td><td>Herndon VA            </td><td>48                    </td><td>NA                    </td><td>NA                    </td><td>2:30:59               </td><td>female                </td><td>2012                  </td></tr>\n",
       "</tbody>\n",
       "</table>\n"
      ],
      "text/latex": [
       "\\begin{tabular}{r|llllllll}\n",
       " name & home & ag & gun & net & time & sex & year\\\\\n",
       "\\hline\n",
       "\t Worku Bikila          & Ethiopia              & 28                    & NA                    & NA                    &   46:59               & female                & 1999                 \\\\\n",
       "\t Lazarus Nyakeraka     & Kenya                 & 24                    & NA                    & NA                    &   47:01               & female                & 1999                 \\\\\n",
       "\t James Kariuki         & Kenya                 & 27                    & NA                    & NA                    &   47:03               & female                & 1999                 \\\\\n",
       "\t William Kiptum        & Kenya                 & 28                    & NA                    & NA                    &   47:07               & female                & 1999                 \\\\\n",
       "\t Joseph Kimani         & Kenya                 & 26                    & NA                    & NA                    &   47:31               & female                & 1999                 \\\\\n",
       "\t Josphat Machuka       & Kenya                 & 25                    & NA                    & NA                    &   47:33               & female                & 1999                 \\\\\n",
       "\t Julius Randich        & Kenya                 & 26                    & NA                    & NA                    &   47:37               & female                & 1999                 \\\\\n",
       "\t Leonid Shvetsov       & Russia                & 30                    & NA                    & NA                    &   49:10               & female                & 1999                 \\\\\n",
       "\t Reuben Chesang        & Kenya                 & 38                    & NA                    & NA                    &   49:22               & female                & 1999                 \\\\\n",
       "\t Daniel Kihara         & Kenya                 & 30                    & NA                    & NA                    &   49:23               & female                & 1999                 \\\\\n",
       "\t Kibet Cherop          & Kenya                 & 24                    & NA                    & NA                    &   49:26               & female                & 1999                 \\\\\n",
       "\t Ben Kimondieu         & Kenya                 & 21                    & NA                    & NA                    &   49:37               & female                & 1999                 \\\\\n",
       "\t Jacob Kirua           & Kenya                 & 23                    & NA                    & NA                    &   50:05               & female                & 1999                 \\\\\n",
       "\t Simon Cherogony       & Kenya                 & 27                    & NA                    & NA                    &   50:17               & female                & 1999                 \\\\\n",
       "\t Eric Morrison         & Lakewood CO           & 28                    & NA                    & NA                    &   50:35               & female                & 1999                 \\\\\n",
       "\t Mark Gilmore          & Columbia MD           & 31                    & NA                    & NA                    &   50:40               & female                & 1999                 \\\\\n",
       "\t Phillippe Rolly       & France                & 26                    & NA                    & NA                    &   51:00               & female                & 1999                 \\\\\n",
       "\t Jason Bodnar          & Davie FL              & 28                    & NA                    & NA                    &   51:15               & female                & 1999                 \\\\\n",
       "\t Bernard Kitur         & Aurora CO             & 27                    & NA                    & NA                    &   51:17               & female                & 1999                 \\\\\n",
       "\t Todd Reeser           & Canandaigua NY        & 25                    & NA                    & NA                    &   51:42               & female                & 1999                 \\\\\n",
       "\t Chris Chattin         & Columbia MD           & 35                    & NA                    & NA                    &   52:22               & female                & 1999                 \\\\\n",
       "\t Andrew Klemas         & Falls Church VA       & 35                    & NA                    & NA                    &   52:25               & female                & 1999                 \\\\\n",
       "\t Gerry Clapper         & Columbia MD           & 37                    & NA                    & NA                    &   52:27               & female                & 1999                 \\\\\n",
       "\t Dave Berardi          & Baltimore MD          & 38                    & NA                    & NA                    &   52:29               & female                & 1999                 \\\\\n",
       "\t Gary O'donnell        & Arlington VA          & 26                    & NA                    & NA                    &   52:32               & female                & 1999                 \\\\\n",
       "\t Rob Magin             & Gaithersburg MD       & 28                    & NA                    & NA                    &   52:40               & female                & 1999                 \\\\\n",
       "\t Luis Del Aguila       & State College PA      & 29                    & NA                    & NA                    &   52:57               & female                & 1999                 \\\\\n",
       "\t Robert Walker         & Silver Spring MD      & 31                    & NA                    & NA                    &   53:24               & female                & 1999                 \\\\\n",
       "\t Bill Rodgers          & Sherborn MA           & 51                    & NA                    & NA                    &   54:03               & female                & 1999                 \\\\\n",
       "\t Mark Hoon             & Kensington MD         & 34                    & NA                    & NA                    &   54:13               & female                & 1999                 \\\\\n",
       "\t ⋮ & ⋮ & ⋮ & ⋮ & ⋮ & ⋮ & ⋮ & ⋮\\\\\n",
       "\t Nick Palarino          & Bowie MD               & 65                     & NA                     & NA                     & 2:17:08                & female                 & 2012                  \\\\\n",
       "\t Ivan Billings          & Washington DC          & 27                     & NA                     & NA                     & 2:17:15                & female                 & 2012                  \\\\\n",
       "\t Joseph Aldridge        & Arlington VA           & 30                     & NA                     & NA                     & 2:17:25                & female                 & 2012                  \\\\\n",
       "\t John Childers          & Arlington VA           & 30                     & NA                     & NA                     & 2:17:27                & female                 & 2012                  \\\\\n",
       "\t Alan McLaine           & Columbia MD            & 65                     & NA                     & NA                     & 2:18:00                & female                 & 2012                  \\\\\n",
       "\t Dustin Terrill         & McLean VA              & 27                     & NA                     & NA                     & 2:18:14                & female                 & 2012                  \\\\\n",
       "\t Ralph Dixon            & Waldorf MD             & 39                     & NA                     & NA                     & 2:18:24                & female                 & 2012                  \\\\\n",
       "\t Gary Kodeck            & Owings Mills MD        & 60                     & NA                     & NA                     & 2:18:40                & female                 & 2012                  \\\\\n",
       "\t David Conover          & Silver Spring MD       & 46                     & NA                     & NA                     & 2:18:42                & female                 & 2012                  \\\\\n",
       "\t Andres Esteban-Rodrigu & Woodbridge VA          & 28                     & NA                     & NA                     & 2:18:53                & female                 & 2012                  \\\\\n",
       "\t Andrew Fitzpatrick     & Drexel Hill PA         & 24                     & NA                     & NA                     & 2:19:06                & female                 & 2012                  \\\\\n",
       "\t Hal Laurent            & Baltimore MD           & 58                     & NA                     & NA                     & 2:19:09                & female                 & 2012                  \\\\\n",
       "\t Vasilios Stayeas       & Germantown MD          & 65                     & NA                     & NA                     & 2:20:14                & female                 & 2012                  \\\\\n",
       "\t Rajesh Madireddy       & Ashburn VA             & 44                     & NA                     & NA                     & 2:21:23                & female                 & 2012                  \\\\\n",
       "\t C.J. Batten            & Centreville VA         & 30                     & NA                     & NA                     & 2:21:43                & female                 & 2012                  \\\\\n",
       "\t Earnest Lawrence       & Bowie MD               & 37                     & NA                     & NA                     & 2:23:02                & female                 & 2012                  \\\\\n",
       "\t Tate Srey              & Centreville VA         & 30                     & NA                     & NA                     & 2:23:17                & female                 & 2012                  \\\\\n",
       "\t Abraham Beltran        & Germantown MD          & 59                     & NA                     & NA                     & 2:23:26                & female                 & 2012                  \\\\\n",
       "\t William Lee            & Washington DC          & 44                     & NA                     & NA                     & 2:23:41                & female                 & 2012                  \\\\\n",
       "\t Dennis Smith           & Brambleton VA          & 46                     & NA                     & NA                     & 2:24:02                & female                 & 2012                  \\\\\n",
       "\t Santa Schreurs         & Olney MD               & 63                     & NA                     & NA                     & 2:24:05                & female                 & 2012                  \\\\\n",
       "\t Chau Nguyen            & Rockville MD           & 41                     & NA                     & NA                     & 2:24:48                & female                 & 2012                  \\\\\n",
       "\t Kerry Kilman           & Rockville MD           & 64                     & NA                     & NA                     & 2:25:00                & female                 & 2012                  \\\\\n",
       "\t Steve Scharf           & Gaithersburg MD        & 66                     & NA                     & NA                     & 2:25:52                & female                 & 2012                  \\\\\n",
       "\t Dana Brown             & Randallstown MD        & 41                     & NA                     & NA                     & 2:26:47                & female                 & 2012                  \\\\\n",
       "\t Jurek Grabowski        & Fairfax VA             & 39                     & NA                     & NA                     & 2:27:11                & female                 & 2012                  \\\\\n",
       "\t Larry Hume             & Arlington VA           & 56                     & NA                     & NA                     & 2:27:20                & female                 & 2012                  \\\\\n",
       "\t Sean-Patrick Alexander & Alexandria VA          & 35                     & NA                     & NA                     & 2:27:30                & female                 & 2012                  \\\\\n",
       "\t Joseph White           & Forestville MD         &                        & NA                     & NA                     & 2:28:58                & female                 & 2012                  \\\\\n",
       "\t Lee Jordan             & Herndon VA             & 48                     & NA                     & NA                     & 2:30:59                & female                 & 2012                  \\\\\n",
       "\\end{tabular}\n"
      ],
      "text/markdown": [
       "\n",
       "name | home | ag | gun | net | time | sex | year | \n",
       "|---|---|---|---|---|---|---|---|---|---|---|---|---|---|---|---|---|---|---|---|---|---|---|---|---|---|---|---|---|---|---|---|---|---|---|---|---|---|---|---|---|---|---|---|---|---|---|---|---|---|---|---|---|---|---|---|---|---|---|---|---|\n",
       "| Worku Bikila          | Ethiopia              | 28                    | NA                    | NA                    |   46:59               | female                | 1999                  | \n",
       "| Lazarus Nyakeraka     | Kenya                 | 24                    | NA                    | NA                    |   47:01               | female                | 1999                  | \n",
       "| James Kariuki         | Kenya                 | 27                    | NA                    | NA                    |   47:03               | female                | 1999                  | \n",
       "| William Kiptum        | Kenya                 | 28                    | NA                    | NA                    |   47:07               | female                | 1999                  | \n",
       "| Joseph Kimani         | Kenya                 | 26                    | NA                    | NA                    |   47:31               | female                | 1999                  | \n",
       "| Josphat Machuka       | Kenya                 | 25                    | NA                    | NA                    |   47:33               | female                | 1999                  | \n",
       "| Julius Randich        | Kenya                 | 26                    | NA                    | NA                    |   47:37               | female                | 1999                  | \n",
       "| Leonid Shvetsov       | Russia                | 30                    | NA                    | NA                    |   49:10               | female                | 1999                  | \n",
       "| Reuben Chesang        | Kenya                 | 38                    | NA                    | NA                    |   49:22               | female                | 1999                  | \n",
       "| Daniel Kihara         | Kenya                 | 30                    | NA                    | NA                    |   49:23               | female                | 1999                  | \n",
       "| Kibet Cherop          | Kenya                 | 24                    | NA                    | NA                    |   49:26               | female                | 1999                  | \n",
       "| Ben Kimondieu         | Kenya                 | 21                    | NA                    | NA                    |   49:37               | female                | 1999                  | \n",
       "| Jacob Kirua           | Kenya                 | 23                    | NA                    | NA                    |   50:05               | female                | 1999                  | \n",
       "| Simon Cherogony       | Kenya                 | 27                    | NA                    | NA                    |   50:17               | female                | 1999                  | \n",
       "| Eric Morrison         | Lakewood CO           | 28                    | NA                    | NA                    |   50:35               | female                | 1999                  | \n",
       "| Mark Gilmore          | Columbia MD           | 31                    | NA                    | NA                    |   50:40               | female                | 1999                  | \n",
       "| Phillippe Rolly       | France                | 26                    | NA                    | NA                    |   51:00               | female                | 1999                  | \n",
       "| Jason Bodnar          | Davie FL              | 28                    | NA                    | NA                    |   51:15               | female                | 1999                  | \n",
       "| Bernard Kitur         | Aurora CO             | 27                    | NA                    | NA                    |   51:17               | female                | 1999                  | \n",
       "| Todd Reeser           | Canandaigua NY        | 25                    | NA                    | NA                    |   51:42               | female                | 1999                  | \n",
       "| Chris Chattin         | Columbia MD           | 35                    | NA                    | NA                    |   52:22               | female                | 1999                  | \n",
       "| Andrew Klemas         | Falls Church VA       | 35                    | NA                    | NA                    |   52:25               | female                | 1999                  | \n",
       "| Gerry Clapper         | Columbia MD           | 37                    | NA                    | NA                    |   52:27               | female                | 1999                  | \n",
       "| Dave Berardi          | Baltimore MD          | 38                    | NA                    | NA                    |   52:29               | female                | 1999                  | \n",
       "| Gary O'donnell        | Arlington VA          | 26                    | NA                    | NA                    |   52:32               | female                | 1999                  | \n",
       "| Rob Magin             | Gaithersburg MD       | 28                    | NA                    | NA                    |   52:40               | female                | 1999                  | \n",
       "| Luis Del Aguila       | State College PA      | 29                    | NA                    | NA                    |   52:57               | female                | 1999                  | \n",
       "| Robert Walker         | Silver Spring MD      | 31                    | NA                    | NA                    |   53:24               | female                | 1999                  | \n",
       "| Bill Rodgers          | Sherborn MA           | 51                    | NA                    | NA                    |   54:03               | female                | 1999                  | \n",
       "| Mark Hoon             | Kensington MD         | 34                    | NA                    | NA                    |   54:13               | female                | 1999                  | \n",
       "| ⋮ | ⋮ | ⋮ | ⋮ | ⋮ | ⋮ | ⋮ | ⋮ | \n",
       "| Nick Palarino          | Bowie MD               | 65                     | NA                     | NA                     | 2:17:08                | female                 | 2012                   | \n",
       "| Ivan Billings          | Washington DC          | 27                     | NA                     | NA                     | 2:17:15                | female                 | 2012                   | \n",
       "| Joseph Aldridge        | Arlington VA           | 30                     | NA                     | NA                     | 2:17:25                | female                 | 2012                   | \n",
       "| John Childers          | Arlington VA           | 30                     | NA                     | NA                     | 2:17:27                | female                 | 2012                   | \n",
       "| Alan McLaine           | Columbia MD            | 65                     | NA                     | NA                     | 2:18:00                | female                 | 2012                   | \n",
       "| Dustin Terrill         | McLean VA              | 27                     | NA                     | NA                     | 2:18:14                | female                 | 2012                   | \n",
       "| Ralph Dixon            | Waldorf MD             | 39                     | NA                     | NA                     | 2:18:24                | female                 | 2012                   | \n",
       "| Gary Kodeck            | Owings Mills MD        | 60                     | NA                     | NA                     | 2:18:40                | female                 | 2012                   | \n",
       "| David Conover          | Silver Spring MD       | 46                     | NA                     | NA                     | 2:18:42                | female                 | 2012                   | \n",
       "| Andres Esteban-Rodrigu | Woodbridge VA          | 28                     | NA                     | NA                     | 2:18:53                | female                 | 2012                   | \n",
       "| Andrew Fitzpatrick     | Drexel Hill PA         | 24                     | NA                     | NA                     | 2:19:06                | female                 | 2012                   | \n",
       "| Hal Laurent            | Baltimore MD           | 58                     | NA                     | NA                     | 2:19:09                | female                 | 2012                   | \n",
       "| Vasilios Stayeas       | Germantown MD          | 65                     | NA                     | NA                     | 2:20:14                | female                 | 2012                   | \n",
       "| Rajesh Madireddy       | Ashburn VA             | 44                     | NA                     | NA                     | 2:21:23                | female                 | 2012                   | \n",
       "| C.J. Batten            | Centreville VA         | 30                     | NA                     | NA                     | 2:21:43                | female                 | 2012                   | \n",
       "| Earnest Lawrence       | Bowie MD               | 37                     | NA                     | NA                     | 2:23:02                | female                 | 2012                   | \n",
       "| Tate Srey              | Centreville VA         | 30                     | NA                     | NA                     | 2:23:17                | female                 | 2012                   | \n",
       "| Abraham Beltran        | Germantown MD          | 59                     | NA                     | NA                     | 2:23:26                | female                 | 2012                   | \n",
       "| William Lee            | Washington DC          | 44                     | NA                     | NA                     | 2:23:41                | female                 | 2012                   | \n",
       "| Dennis Smith           | Brambleton VA          | 46                     | NA                     | NA                     | 2:24:02                | female                 | 2012                   | \n",
       "| Santa Schreurs         | Olney MD               | 63                     | NA                     | NA                     | 2:24:05                | female                 | 2012                   | \n",
       "| Chau Nguyen            | Rockville MD           | 41                     | NA                     | NA                     | 2:24:48                | female                 | 2012                   | \n",
       "| Kerry Kilman           | Rockville MD           | 64                     | NA                     | NA                     | 2:25:00                | female                 | 2012                   | \n",
       "| Steve Scharf           | Gaithersburg MD        | 66                     | NA                     | NA                     | 2:25:52                | female                 | 2012                   | \n",
       "| Dana Brown             | Randallstown MD        | 41                     | NA                     | NA                     | 2:26:47                | female                 | 2012                   | \n",
       "| Jurek Grabowski        | Fairfax VA             | 39                     | NA                     | NA                     | 2:27:11                | female                 | 2012                   | \n",
       "| Larry Hume             | Arlington VA           | 56                     | NA                     | NA                     | 2:27:20                | female                 | 2012                   | \n",
       "| Sean-Patrick Alexander | Alexandria VA          | 35                     | NA                     | NA                     | 2:27:30                | female                 | 2012                   | \n",
       "| Joseph White           | Forestville MD         |                        | NA                     | NA                     | 2:28:58                | female                 | 2012                   | \n",
       "| Lee Jordan             | Herndon VA             | 48                     | NA                     | NA                     | 2:30:59                | female                 | 2012                   | \n",
       "\n",
       "\n"
      ],
      "text/plain": [
       "      name                   home                 ag gun net time    sex   \n",
       "1     Worku Bikila           Ethiopia             28 NA  NA    46:59 female\n",
       "2     Lazarus Nyakeraka      Kenya                24 NA  NA    47:01 female\n",
       "3     James Kariuki          Kenya                27 NA  NA    47:03 female\n",
       "4     William Kiptum         Kenya                28 NA  NA    47:07 female\n",
       "5     Joseph Kimani          Kenya                26 NA  NA    47:31 female\n",
       "6     Josphat Machuka        Kenya                25 NA  NA    47:33 female\n",
       "7     Julius Randich         Kenya                26 NA  NA    47:37 female\n",
       "8     Leonid Shvetsov        Russia               30 NA  NA    49:10 female\n",
       "9     Reuben Chesang         Kenya                38 NA  NA    49:22 female\n",
       "10    Daniel Kihara          Kenya                30 NA  NA    49:23 female\n",
       "11    Kibet Cherop           Kenya                24 NA  NA    49:26 female\n",
       "12    Ben Kimondieu          Kenya                21 NA  NA    49:37 female\n",
       "13    Jacob Kirua            Kenya                23 NA  NA    50:05 female\n",
       "14    Simon Cherogony        Kenya                27 NA  NA    50:17 female\n",
       "15    Eric Morrison          Lakewood CO          28 NA  NA    50:35 female\n",
       "16    Mark Gilmore           Columbia MD          31 NA  NA    50:40 female\n",
       "17    Phillippe Rolly        France               26 NA  NA    51:00 female\n",
       "18    Jason Bodnar           Davie FL             28 NA  NA    51:15 female\n",
       "19    Bernard Kitur          Aurora CO            27 NA  NA    51:17 female\n",
       "20    Todd Reeser            Canandaigua NY       25 NA  NA    51:42 female\n",
       "21    Chris Chattin          Columbia MD          35 NA  NA    52:22 female\n",
       "22    Andrew Klemas          Falls Church VA      35 NA  NA    52:25 female\n",
       "23    Gerry Clapper          Columbia MD          37 NA  NA    52:27 female\n",
       "24    Dave Berardi           Baltimore MD         38 NA  NA    52:29 female\n",
       "25    Gary O'donnell         Arlington VA         26 NA  NA    52:32 female\n",
       "26    Rob Magin              Gaithersburg MD      28 NA  NA    52:40 female\n",
       "27    Luis Del Aguila        State College PA     29 NA  NA    52:57 female\n",
       "28    Robert Walker          Silver Spring MD     31 NA  NA    53:24 female\n",
       "29    Bill Rodgers           Sherborn MA          51 NA  NA    54:03 female\n",
       "30    Mark Hoon              Kensington MD        34 NA  NA    54:13 female\n",
       "⋮     ⋮                      ⋮                    ⋮  ⋮   ⋮   ⋮       ⋮     \n",
       "20737 Nick Palarino          Bowie MD             65 NA  NA  2:17:08 female\n",
       "20738 Ivan Billings          Washington DC        27 NA  NA  2:17:15 female\n",
       "20739 Joseph Aldridge        Arlington VA         30 NA  NA  2:17:25 female\n",
       "20740 John Childers          Arlington VA         30 NA  NA  2:17:27 female\n",
       "20741 Alan McLaine           Columbia MD          65 NA  NA  2:18:00 female\n",
       "20742 Dustin Terrill         McLean VA            27 NA  NA  2:18:14 female\n",
       "20743 Ralph Dixon            Waldorf MD           39 NA  NA  2:18:24 female\n",
       "20744 Gary Kodeck            Owings Mills MD      60 NA  NA  2:18:40 female\n",
       "20745 David Conover          Silver Spring MD     46 NA  NA  2:18:42 female\n",
       "20746 Andres Esteban-Rodrigu Woodbridge VA        28 NA  NA  2:18:53 female\n",
       "20747 Andrew Fitzpatrick     Drexel Hill PA       24 NA  NA  2:19:06 female\n",
       "20748 Hal Laurent            Baltimore MD         58 NA  NA  2:19:09 female\n",
       "20749 Vasilios Stayeas       Germantown MD        65 NA  NA  2:20:14 female\n",
       "20750 Rajesh Madireddy       Ashburn VA           44 NA  NA  2:21:23 female\n",
       "20751 C.J. Batten            Centreville VA       30 NA  NA  2:21:43 female\n",
       "20752 Earnest Lawrence       Bowie MD             37 NA  NA  2:23:02 female\n",
       "20753 Tate Srey              Centreville VA       30 NA  NA  2:23:17 female\n",
       "20754 Abraham Beltran        Germantown MD        59 NA  NA  2:23:26 female\n",
       "20755 William Lee            Washington DC        44 NA  NA  2:23:41 female\n",
       "20756 Dennis Smith           Brambleton VA        46 NA  NA  2:24:02 female\n",
       "20757 Santa Schreurs         Olney MD             63 NA  NA  2:24:05 female\n",
       "20758 Chau Nguyen            Rockville MD         41 NA  NA  2:24:48 female\n",
       "20759 Kerry Kilman           Rockville MD         64 NA  NA  2:25:00 female\n",
       "20760 Steve Scharf           Gaithersburg MD      66 NA  NA  2:25:52 female\n",
       "20761 Dana Brown             Randallstown MD      41 NA  NA  2:26:47 female\n",
       "20762 Jurek Grabowski        Fairfax VA           39 NA  NA  2:27:11 female\n",
       "20763 Larry Hume             Arlington VA         56 NA  NA  2:27:20 female\n",
       "20764 Sean-Patrick Alexander Alexandria VA        35 NA  NA  2:27:30 female\n",
       "20765 Joseph White           Forestville MD          NA  NA  2:28:58 female\n",
       "20766 Lee Jordan             Herndon VA           48 NA  NA  2:30:59 female\n",
       "      year\n",
       "1     1999\n",
       "2     1999\n",
       "3     1999\n",
       "4     1999\n",
       "5     1999\n",
       "6     1999\n",
       "7     1999\n",
       "8     1999\n",
       "9     1999\n",
       "10    1999\n",
       "11    1999\n",
       "12    1999\n",
       "13    1999\n",
       "14    1999\n",
       "15    1999\n",
       "16    1999\n",
       "17    1999\n",
       "18    1999\n",
       "19    1999\n",
       "20    1999\n",
       "21    1999\n",
       "22    1999\n",
       "23    1999\n",
       "24    1999\n",
       "25    1999\n",
       "26    1999\n",
       "27    1999\n",
       "28    1999\n",
       "29    1999\n",
       "30    1999\n",
       "⋮     ⋮   \n",
       "20737 2012\n",
       "20738 2012\n",
       "20739 2012\n",
       "20740 2012\n",
       "20741 2012\n",
       "20742 2012\n",
       "20743 2012\n",
       "20744 2012\n",
       "20745 2012\n",
       "20746 2012\n",
       "20747 2012\n",
       "20748 2012\n",
       "20749 2012\n",
       "20750 2012\n",
       "20751 2012\n",
       "20752 2012\n",
       "20753 2012\n",
       "20754 2012\n",
       "20755 2012\n",
       "20756 2012\n",
       "20757 2012\n",
       "20758 2012\n",
       "20759 2012\n",
       "20760 2012\n",
       "20761 2012\n",
       "20762 2012\n",
       "20763 2012\n",
       "20764 2012\n",
       "20765 2012\n",
       "20766 2012"
      ]
     },
     "metadata": {},
     "output_type": "display_data"
    }
   ],
   "source": [
    "raceDf"
   ]
  },
  {
   "cell_type": "code",
   "execution_count": null,
   "metadata": {},
   "outputs": [],
   "source": []
  }
 ],
 "metadata": {
  "kernelspec": {
   "display_name": "R",
   "language": "R",
   "name": "ir"
  },
  "language_info": {
   "codemirror_mode": "r",
   "file_extension": ".r",
   "mimetype": "text/x-r-source",
   "name": "R",
   "pygments_lexer": "r",
   "version": "3.5.1"
  }
 },
 "nbformat": 4,
 "nbformat_minor": 2
}
